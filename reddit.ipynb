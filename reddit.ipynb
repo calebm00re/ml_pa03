{
 "cells": [
  {
   "cell_type": "code",
   "execution_count": 10,
   "metadata": {
    "collapsed": true
   },
   "outputs": [],
   "source": [
    "import pandas as pd"
   ]
  },
  {
   "cell_type": "code",
   "execution_count": 11,
   "outputs": [
    {
     "name": "stderr",
     "output_type": "stream",
     "text": [
      "/Users/caleb/opt/anaconda3/lib/python3.9/site-packages/IPython/core/interactiveshell.py:3444: DtypeWarning: Columns (5,15) have mixed types.Specify dtype option on import or set low_memory=False.\n",
      "  exec(code_obj, self.user_global_ns, self.user_ns)\n"
     ]
    },
    {
     "data": {
      "text/plain": "  score_hidden        name    link_id  \\\n0        False  t1_cnatx2q  t3_2qx8l6   \n1        False  t1_cnawsnj  t3_2qz0dw   \n2        False  t1_cnawsur  t3_2qyff5   \n3        False  t1_cnaukc6  t3_2qykl8   \n4        False  t1_cnay87o  t3_2qyxm0   \n5        False  t1_cnatw3j  t3_2qwwq7   \n6        False  t1_cnatgre  t3_2qymad   \n7        False  t1_cnauslo  t3_2qy4my   \n8        False  t1_cnaxgtk  t3_2qz8bg   \n9        False  t1_cnauym2  t3_2qqgad   \n\n                                                body downs created_utc score  \\\n0  Yeah his really deliberate hot dog strategy wa...     0  1420074237     7   \n1                                          [deleted]     0  1420081530     1   \n2  The whole series of German \"MG's\" as well? 32,...     0  1420081544     3   \n3         4 points for Palat... I think you are safe     0  1420075792     3   \n4  Lol I think it's cause I put in Leonard Willia...     0  1420085612    -1   \n5                 The timing is still pretty shitty.     0  1420074174     3   \n6  [](/twibeam \"The fact that you posted this mak...     0  1420073169    11   \n7  The problem is with the Trakt API,it will prob...     0  1420076352     5   \n8                                          fuckheads     0  1420083421    -6   \n9                                GUUURRSEEBUURRMPS!!     0  1420076772     1   \n\n            author distinguished       id  ...   parent_id          subreddit  \\\n0    classlessjerk           NaN  cnatx2q  ...  t1_cnal3zb              IASIP   \n1        [deleted]           NaN  cnawsnj  ...  t1_cnav3yl          vaporents   \n2  Marcu5_Aureliu5           NaN  cnawsur  ...   t3_2qyff5               guns   \n3      kiruarracca           NaN  cnaukc6  ...  t1_cnauivq             hockey   \n4   Knightvision27           NaN  cnay87o  ...  t1_cnaxiqe     oaklandraiders   \n5         R3v3nan7           NaN  cnatw3j  ...  t1_cnalifm               pics   \n6      kippermydog           NaN  cnatgre  ...   t3_2qymad       mylittlepony   \n7       Luretrix2k           NaN  cnauslo  ...   t3_2qy4my        PopCornTime   \n8           H10407           NaN  cnaxgtk  ...   t3_2qz8bg          melbourne   \n9      ghostoutfit           NaN  cnauym2  ...  t1_cnau9mv  intrusivethoughts   \n\n  author_flair_css_class author_flair_text gilded retrieved_on ups  \\\n0                  frank        hangs dong      0   1425123504   7   \n1                    NaN               NaN      0   1425122161   1   \n2                    NaN               NaN      0   1425122159   3   \n3                 TBLNHL            TBLNHL      0   1425123202   3   \n4             NFLRaiders               NaN      0   1425121493  -1   \n5                    NaN               NaN      0   1425123517   3   \n6                 zecora               NaN      0   1425123715  11   \n7                    NaN               NaN      0   1425123095   5   \n8                    NaN               NaN      0   1425121848  -6   \n9                    NaN               NaN      0   1425123017   1   \n\n  controversiality  subreddit_id edited  \n0              0.0      t5_2s28b  False  \n1              0.0      t5_2upjd  False  \n2              0.0      t5_2qhc8  False  \n3              0.0      t5_2qiel  False  \n4              0.0      t5_2reby  False  \n5              0.0      t5_2qh0u  False  \n6              0.0      t5_2s8bl  False  \n7              0.0      t5_30ov7  False  \n8              0.0      t5_2qkhb  False  \n9              0.0      t5_2tqd6  False  \n\n[10 rows x 21 columns]",
      "text/html": "<div>\n<style scoped>\n    .dataframe tbody tr th:only-of-type {\n        vertical-align: middle;\n    }\n\n    .dataframe tbody tr th {\n        vertical-align: top;\n    }\n\n    .dataframe thead th {\n        text-align: right;\n    }\n</style>\n<table border=\"1\" class=\"dataframe\">\n  <thead>\n    <tr style=\"text-align: right;\">\n      <th></th>\n      <th>score_hidden</th>\n      <th>name</th>\n      <th>link_id</th>\n      <th>body</th>\n      <th>downs</th>\n      <th>created_utc</th>\n      <th>score</th>\n      <th>author</th>\n      <th>distinguished</th>\n      <th>id</th>\n      <th>...</th>\n      <th>parent_id</th>\n      <th>subreddit</th>\n      <th>author_flair_css_class</th>\n      <th>author_flair_text</th>\n      <th>gilded</th>\n      <th>retrieved_on</th>\n      <th>ups</th>\n      <th>controversiality</th>\n      <th>subreddit_id</th>\n      <th>edited</th>\n    </tr>\n  </thead>\n  <tbody>\n    <tr>\n      <th>0</th>\n      <td>False</td>\n      <td>t1_cnatx2q</td>\n      <td>t3_2qx8l6</td>\n      <td>Yeah his really deliberate hot dog strategy wa...</td>\n      <td>0</td>\n      <td>1420074237</td>\n      <td>7</td>\n      <td>classlessjerk</td>\n      <td>NaN</td>\n      <td>cnatx2q</td>\n      <td>...</td>\n      <td>t1_cnal3zb</td>\n      <td>IASIP</td>\n      <td>frank</td>\n      <td>hangs dong</td>\n      <td>0</td>\n      <td>1425123504</td>\n      <td>7</td>\n      <td>0.0</td>\n      <td>t5_2s28b</td>\n      <td>False</td>\n    </tr>\n    <tr>\n      <th>1</th>\n      <td>False</td>\n      <td>t1_cnawsnj</td>\n      <td>t3_2qz0dw</td>\n      <td>[deleted]</td>\n      <td>0</td>\n      <td>1420081530</td>\n      <td>1</td>\n      <td>[deleted]</td>\n      <td>NaN</td>\n      <td>cnawsnj</td>\n      <td>...</td>\n      <td>t1_cnav3yl</td>\n      <td>vaporents</td>\n      <td>NaN</td>\n      <td>NaN</td>\n      <td>0</td>\n      <td>1425122161</td>\n      <td>1</td>\n      <td>0.0</td>\n      <td>t5_2upjd</td>\n      <td>False</td>\n    </tr>\n    <tr>\n      <th>2</th>\n      <td>False</td>\n      <td>t1_cnawsur</td>\n      <td>t3_2qyff5</td>\n      <td>The whole series of German \"MG's\" as well? 32,...</td>\n      <td>0</td>\n      <td>1420081544</td>\n      <td>3</td>\n      <td>Marcu5_Aureliu5</td>\n      <td>NaN</td>\n      <td>cnawsur</td>\n      <td>...</td>\n      <td>t3_2qyff5</td>\n      <td>guns</td>\n      <td>NaN</td>\n      <td>NaN</td>\n      <td>0</td>\n      <td>1425122159</td>\n      <td>3</td>\n      <td>0.0</td>\n      <td>t5_2qhc8</td>\n      <td>False</td>\n    </tr>\n    <tr>\n      <th>3</th>\n      <td>False</td>\n      <td>t1_cnaukc6</td>\n      <td>t3_2qykl8</td>\n      <td>4 points for Palat... I think you are safe</td>\n      <td>0</td>\n      <td>1420075792</td>\n      <td>3</td>\n      <td>kiruarracca</td>\n      <td>NaN</td>\n      <td>cnaukc6</td>\n      <td>...</td>\n      <td>t1_cnauivq</td>\n      <td>hockey</td>\n      <td>TBLNHL</td>\n      <td>TBLNHL</td>\n      <td>0</td>\n      <td>1425123202</td>\n      <td>3</td>\n      <td>0.0</td>\n      <td>t5_2qiel</td>\n      <td>False</td>\n    </tr>\n    <tr>\n      <th>4</th>\n      <td>False</td>\n      <td>t1_cnay87o</td>\n      <td>t3_2qyxm0</td>\n      <td>Lol I think it's cause I put in Leonard Willia...</td>\n      <td>0</td>\n      <td>1420085612</td>\n      <td>-1</td>\n      <td>Knightvision27</td>\n      <td>NaN</td>\n      <td>cnay87o</td>\n      <td>...</td>\n      <td>t1_cnaxiqe</td>\n      <td>oaklandraiders</td>\n      <td>NFLRaiders</td>\n      <td>NaN</td>\n      <td>0</td>\n      <td>1425121493</td>\n      <td>-1</td>\n      <td>0.0</td>\n      <td>t5_2reby</td>\n      <td>False</td>\n    </tr>\n    <tr>\n      <th>5</th>\n      <td>False</td>\n      <td>t1_cnatw3j</td>\n      <td>t3_2qwwq7</td>\n      <td>The timing is still pretty shitty.</td>\n      <td>0</td>\n      <td>1420074174</td>\n      <td>3</td>\n      <td>R3v3nan7</td>\n      <td>NaN</td>\n      <td>cnatw3j</td>\n      <td>...</td>\n      <td>t1_cnalifm</td>\n      <td>pics</td>\n      <td>NaN</td>\n      <td>NaN</td>\n      <td>0</td>\n      <td>1425123517</td>\n      <td>3</td>\n      <td>0.0</td>\n      <td>t5_2qh0u</td>\n      <td>False</td>\n    </tr>\n    <tr>\n      <th>6</th>\n      <td>False</td>\n      <td>t1_cnatgre</td>\n      <td>t3_2qymad</td>\n      <td>[](/twibeam \"The fact that you posted this mak...</td>\n      <td>0</td>\n      <td>1420073169</td>\n      <td>11</td>\n      <td>kippermydog</td>\n      <td>NaN</td>\n      <td>cnatgre</td>\n      <td>...</td>\n      <td>t3_2qymad</td>\n      <td>mylittlepony</td>\n      <td>zecora</td>\n      <td>NaN</td>\n      <td>0</td>\n      <td>1425123715</td>\n      <td>11</td>\n      <td>0.0</td>\n      <td>t5_2s8bl</td>\n      <td>False</td>\n    </tr>\n    <tr>\n      <th>7</th>\n      <td>False</td>\n      <td>t1_cnauslo</td>\n      <td>t3_2qy4my</td>\n      <td>The problem is with the Trakt API,it will prob...</td>\n      <td>0</td>\n      <td>1420076352</td>\n      <td>5</td>\n      <td>Luretrix2k</td>\n      <td>NaN</td>\n      <td>cnauslo</td>\n      <td>...</td>\n      <td>t3_2qy4my</td>\n      <td>PopCornTime</td>\n      <td>NaN</td>\n      <td>NaN</td>\n      <td>0</td>\n      <td>1425123095</td>\n      <td>5</td>\n      <td>0.0</td>\n      <td>t5_30ov7</td>\n      <td>False</td>\n    </tr>\n    <tr>\n      <th>8</th>\n      <td>False</td>\n      <td>t1_cnaxgtk</td>\n      <td>t3_2qz8bg</td>\n      <td>fuckheads</td>\n      <td>0</td>\n      <td>1420083421</td>\n      <td>-6</td>\n      <td>H10407</td>\n      <td>NaN</td>\n      <td>cnaxgtk</td>\n      <td>...</td>\n      <td>t3_2qz8bg</td>\n      <td>melbourne</td>\n      <td>NaN</td>\n      <td>NaN</td>\n      <td>0</td>\n      <td>1425121848</td>\n      <td>-6</td>\n      <td>0.0</td>\n      <td>t5_2qkhb</td>\n      <td>False</td>\n    </tr>\n    <tr>\n      <th>9</th>\n      <td>False</td>\n      <td>t1_cnauym2</td>\n      <td>t3_2qqgad</td>\n      <td>GUUURRSEEBUURRMPS!!</td>\n      <td>0</td>\n      <td>1420076772</td>\n      <td>1</td>\n      <td>ghostoutfit</td>\n      <td>NaN</td>\n      <td>cnauym2</td>\n      <td>...</td>\n      <td>t1_cnau9mv</td>\n      <td>intrusivethoughts</td>\n      <td>NaN</td>\n      <td>NaN</td>\n      <td>0</td>\n      <td>1425123017</td>\n      <td>1</td>\n      <td>0.0</td>\n      <td>t5_2tqd6</td>\n      <td>False</td>\n    </tr>\n  </tbody>\n</table>\n<p>10 rows × 21 columns</p>\n</div>"
     },
     "execution_count": 11,
     "metadata": {},
     "output_type": "execute_result"
    }
   ],
   "source": [
    "reddit = pd.read_csv(\"datasets/reddit.csv\")\n",
    "reddit.head(10)"
   ],
   "metadata": {
    "collapsed": false,
    "pycharm": {
     "name": "#%%\n"
    }
   }
  },
  {
   "cell_type": "code",
   "execution_count": 12,
   "outputs": [
    {
     "name": "stdout",
     "output_type": "stream",
     "text": [
      "<class 'pandas.core.frame.DataFrame'>\n",
      "RangeIndex: 75022 entries, 0 to 75021\n",
      "Data columns (total 21 columns):\n",
      " #   Column                  Non-Null Count  Dtype  \n",
      "---  ------                  --------------  -----  \n",
      " 0   score_hidden            75020 non-null  object \n",
      " 1   name                    75017 non-null  object \n",
      " 2   link_id                 75017 non-null  object \n",
      " 3   body                    75015 non-null  object \n",
      " 4   downs                   74998 non-null  object \n",
      " 5   created_utc             74985 non-null  object \n",
      " 6   score                   75000 non-null  object \n",
      " 7   author                  75000 non-null  object \n",
      " 8   distinguished           512 non-null    object \n",
      " 9   id                      74999 non-null  object \n",
      " 10  archived                74989 non-null  object \n",
      " 11  parent_id               74989 non-null  object \n",
      " 12  subreddit               75000 non-null  object \n",
      " 13  author_flair_css_class  23658 non-null  object \n",
      " 14  author_flair_text       22117 non-null  object \n",
      " 15  gilded                  75000 non-null  object \n",
      " 16  retrieved_on            75000 non-null  object \n",
      " 17  ups                     74998 non-null  object \n",
      " 18  controversiality        74983 non-null  float64\n",
      " 19  subreddit_id            74983 non-null  object \n",
      " 20  edited                  74983 non-null  object \n",
      "dtypes: float64(1), object(20)\n",
      "memory usage: 12.0+ MB\n"
     ]
    }
   ],
   "source": [
    "reddit.info()"
   ],
   "metadata": {
    "collapsed": false,
    "pycharm": {
     "name": "#%%\n"
    }
   }
  },
  {
   "cell_type": "code",
   "execution_count": 13,
   "outputs": [],
   "source": [
    "reddit = reddit.dropna()"
   ],
   "metadata": {
    "collapsed": false,
    "pycharm": {
     "name": "#%%\n"
    }
   }
  },
  {
   "cell_type": "code",
   "execution_count": 14,
   "outputs": [
    {
     "name": "stdout",
     "output_type": "stream",
     "text": [
      "<class 'pandas.core.frame.DataFrame'>\n",
      "Int64Index: 67 entries, 390 to 74770\n",
      "Data columns (total 21 columns):\n",
      " #   Column                  Non-Null Count  Dtype  \n",
      "---  ------                  --------------  -----  \n",
      " 0   score_hidden            67 non-null     object \n",
      " 1   name                    67 non-null     object \n",
      " 2   link_id                 67 non-null     object \n",
      " 3   body                    67 non-null     object \n",
      " 4   downs                   67 non-null     object \n",
      " 5   created_utc             67 non-null     object \n",
      " 6   score                   67 non-null     object \n",
      " 7   author                  67 non-null     object \n",
      " 8   distinguished           67 non-null     object \n",
      " 9   id                      67 non-null     object \n",
      " 10  archived                67 non-null     object \n",
      " 11  parent_id               67 non-null     object \n",
      " 12  subreddit               67 non-null     object \n",
      " 13  author_flair_css_class  67 non-null     object \n",
      " 14  author_flair_text       67 non-null     object \n",
      " 15  gilded                  67 non-null     object \n",
      " 16  retrieved_on            67 non-null     object \n",
      " 17  ups                     67 non-null     object \n",
      " 18  controversiality        67 non-null     float64\n",
      " 19  subreddit_id            67 non-null     object \n",
      " 20  edited                  67 non-null     object \n",
      "dtypes: float64(1), object(20)\n",
      "memory usage: 11.5+ KB\n"
     ]
    }
   ],
   "source": [
    "reddit.info()"
   ],
   "metadata": {
    "collapsed": false,
    "pycharm": {
     "name": "#%%\n"
    }
   }
  },
  {
   "cell_type": "code",
   "execution_count": 14,
   "outputs": [],
   "source": [],
   "metadata": {
    "collapsed": false,
    "pycharm": {
     "name": "#%%\n"
    }
   }
  }
 ],
 "metadata": {
  "kernelspec": {
   "display_name": "Python 3",
   "language": "python",
   "name": "python3"
  },
  "language_info": {
   "codemirror_mode": {
    "name": "ipython",
    "version": 2
   },
   "file_extension": ".py",
   "mimetype": "text/x-python",
   "name": "python",
   "nbconvert_exporter": "python",
   "pygments_lexer": "ipython2",
   "version": "2.7.6"
  }
 },
 "nbformat": 4,
 "nbformat_minor": 0
}