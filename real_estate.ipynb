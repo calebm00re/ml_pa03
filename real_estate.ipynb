{
 "cells": [
  {
   "cell_type": "code",
   "execution_count": 130,
   "metadata": {
    "collapsed": true
   },
   "outputs": [],
   "source": [
    "import pandas as pd"
   ]
  },
  {
   "cell_type": "markdown",
   "source": [
    "### Read in the Data"
   ],
   "metadata": {
    "collapsed": false
   }
  },
  {
   "cell_type": "code",
   "execution_count": 131,
   "outputs": [
    {
     "data": {
      "text/plain": "   Real_Estate_Id  Deeded_Acreage  Total_Sale_Price Total_Sale_Date  \\\n0              19            0.21             34500        1/1/1974   \n1              20            0.46             35500       5/18/1983   \n2              22            0.46             37500       9/16/2004   \n3              25            0.96             70000        1/1/1971   \n4              30            0.47            380000       8/12/2015   \n5              31            0.39            337500       7/17/2002   \n6              33            0.50             32500        2/6/1979   \n7              34            0.70             19500        1/1/1968   \n8              35            0.49            319000       1/16/1996   \n9              37            0.13            425000       4/15/2008   \n\n  Month_Year_of_Sale  Year_of_Sale  Year_Built  Year_Remodeled  Heated_Area  \\\n0       January 1974          1974        1964            1964         1828   \n1           May 1983          1983        1970            1970         1240   \n2     September 2004          2004        1900            1900         2261   \n3       January 1971          1971        1971            1971         3770   \n4        August 2015          2015        1946            2017         1789   \n5          July 2002          2002        1970            1970         2463   \n6      February 1979          1979        1969            1969         2389   \n7       January 1968          1968        1968            1968         1280   \n8       January 1996          1996        1938            1938         4650   \n9         April 2008          2008        1921            1921         1890   \n\n  Num_Stories  Design_Style     Bath Utilities Physical_City  Physical_Zip  \n0   One Story   Split level   2 Bath       ALL       Raleigh       27610.0  \n1   One Story  Conventional   1 Bath         E       Raleigh       27610.0  \n2   One Story  Conventional   2 Bath       WSE       Wendell       27591.0  \n3   One Story  Conventional    Other       WGE       Raleigh       27613.0  \n4   One Story  Conventional   2 Bath       ALL       Raleigh       27607.0  \n5   One Story  Conventional   2 Bath       ALL       Raleigh       27615.0  \n6   One Story         Ranch   3 Bath       WGE       Raleigh       27607.0  \n7   One Story  Conventional   2 Bath       ALL       Raleigh       27606.0  \n8   Two Story  Conventional  3½ Bath       ALL       Raleigh       27608.0  \n9       Other  Conventional   2 Bath       ALL       Raleigh       27604.0  ",
      "text/html": "<div>\n<style scoped>\n    .dataframe tbody tr th:only-of-type {\n        vertical-align: middle;\n    }\n\n    .dataframe tbody tr th {\n        vertical-align: top;\n    }\n\n    .dataframe thead th {\n        text-align: right;\n    }\n</style>\n<table border=\"1\" class=\"dataframe\">\n  <thead>\n    <tr style=\"text-align: right;\">\n      <th></th>\n      <th>Real_Estate_Id</th>\n      <th>Deeded_Acreage</th>\n      <th>Total_Sale_Price</th>\n      <th>Total_Sale_Date</th>\n      <th>Month_Year_of_Sale</th>\n      <th>Year_of_Sale</th>\n      <th>Year_Built</th>\n      <th>Year_Remodeled</th>\n      <th>Heated_Area</th>\n      <th>Num_Stories</th>\n      <th>Design_Style</th>\n      <th>Bath</th>\n      <th>Utilities</th>\n      <th>Physical_City</th>\n      <th>Physical_Zip</th>\n    </tr>\n  </thead>\n  <tbody>\n    <tr>\n      <th>0</th>\n      <td>19</td>\n      <td>0.21</td>\n      <td>34500</td>\n      <td>1/1/1974</td>\n      <td>January 1974</td>\n      <td>1974</td>\n      <td>1964</td>\n      <td>1964</td>\n      <td>1828</td>\n      <td>One Story</td>\n      <td>Split level</td>\n      <td>2 Bath</td>\n      <td>ALL</td>\n      <td>Raleigh</td>\n      <td>27610.0</td>\n    </tr>\n    <tr>\n      <th>1</th>\n      <td>20</td>\n      <td>0.46</td>\n      <td>35500</td>\n      <td>5/18/1983</td>\n      <td>May 1983</td>\n      <td>1983</td>\n      <td>1970</td>\n      <td>1970</td>\n      <td>1240</td>\n      <td>One Story</td>\n      <td>Conventional</td>\n      <td>1 Bath</td>\n      <td>E</td>\n      <td>Raleigh</td>\n      <td>27610.0</td>\n    </tr>\n    <tr>\n      <th>2</th>\n      <td>22</td>\n      <td>0.46</td>\n      <td>37500</td>\n      <td>9/16/2004</td>\n      <td>September 2004</td>\n      <td>2004</td>\n      <td>1900</td>\n      <td>1900</td>\n      <td>2261</td>\n      <td>One Story</td>\n      <td>Conventional</td>\n      <td>2 Bath</td>\n      <td>WSE</td>\n      <td>Wendell</td>\n      <td>27591.0</td>\n    </tr>\n    <tr>\n      <th>3</th>\n      <td>25</td>\n      <td>0.96</td>\n      <td>70000</td>\n      <td>1/1/1971</td>\n      <td>January 1971</td>\n      <td>1971</td>\n      <td>1971</td>\n      <td>1971</td>\n      <td>3770</td>\n      <td>One Story</td>\n      <td>Conventional</td>\n      <td>Other</td>\n      <td>WGE</td>\n      <td>Raleigh</td>\n      <td>27613.0</td>\n    </tr>\n    <tr>\n      <th>4</th>\n      <td>30</td>\n      <td>0.47</td>\n      <td>380000</td>\n      <td>8/12/2015</td>\n      <td>August 2015</td>\n      <td>2015</td>\n      <td>1946</td>\n      <td>2017</td>\n      <td>1789</td>\n      <td>One Story</td>\n      <td>Conventional</td>\n      <td>2 Bath</td>\n      <td>ALL</td>\n      <td>Raleigh</td>\n      <td>27607.0</td>\n    </tr>\n    <tr>\n      <th>5</th>\n      <td>31</td>\n      <td>0.39</td>\n      <td>337500</td>\n      <td>7/17/2002</td>\n      <td>July 2002</td>\n      <td>2002</td>\n      <td>1970</td>\n      <td>1970</td>\n      <td>2463</td>\n      <td>One Story</td>\n      <td>Conventional</td>\n      <td>2 Bath</td>\n      <td>ALL</td>\n      <td>Raleigh</td>\n      <td>27615.0</td>\n    </tr>\n    <tr>\n      <th>6</th>\n      <td>33</td>\n      <td>0.50</td>\n      <td>32500</td>\n      <td>2/6/1979</td>\n      <td>February 1979</td>\n      <td>1979</td>\n      <td>1969</td>\n      <td>1969</td>\n      <td>2389</td>\n      <td>One Story</td>\n      <td>Ranch</td>\n      <td>3 Bath</td>\n      <td>WGE</td>\n      <td>Raleigh</td>\n      <td>27607.0</td>\n    </tr>\n    <tr>\n      <th>7</th>\n      <td>34</td>\n      <td>0.70</td>\n      <td>19500</td>\n      <td>1/1/1968</td>\n      <td>January 1968</td>\n      <td>1968</td>\n      <td>1968</td>\n      <td>1968</td>\n      <td>1280</td>\n      <td>One Story</td>\n      <td>Conventional</td>\n      <td>2 Bath</td>\n      <td>ALL</td>\n      <td>Raleigh</td>\n      <td>27606.0</td>\n    </tr>\n    <tr>\n      <th>8</th>\n      <td>35</td>\n      <td>0.49</td>\n      <td>319000</td>\n      <td>1/16/1996</td>\n      <td>January 1996</td>\n      <td>1996</td>\n      <td>1938</td>\n      <td>1938</td>\n      <td>4650</td>\n      <td>Two Story</td>\n      <td>Conventional</td>\n      <td>3½ Bath</td>\n      <td>ALL</td>\n      <td>Raleigh</td>\n      <td>27608.0</td>\n    </tr>\n    <tr>\n      <th>9</th>\n      <td>37</td>\n      <td>0.13</td>\n      <td>425000</td>\n      <td>4/15/2008</td>\n      <td>April 2008</td>\n      <td>2008</td>\n      <td>1921</td>\n      <td>1921</td>\n      <td>1890</td>\n      <td>Other</td>\n      <td>Conventional</td>\n      <td>2 Bath</td>\n      <td>ALL</td>\n      <td>Raleigh</td>\n      <td>27604.0</td>\n    </tr>\n  </tbody>\n</table>\n</div>"
     },
     "execution_count": 131,
     "metadata": {},
     "output_type": "execute_result"
    }
   ],
   "source": [
    "real_estate = pd.read_csv('datasets/WakeCountyHousing.csv')\n",
    "real_estate.head(10)"
   ],
   "metadata": {
    "collapsed": false,
    "pycharm": {
     "name": "#%%\n"
    }
   }
  },
  {
   "cell_type": "code",
   "execution_count": 132,
   "outputs": [
    {
     "name": "stdout",
     "output_type": "stream",
     "text": [
      "<class 'pandas.core.frame.DataFrame'>\n",
      "RangeIndex: 308292 entries, 0 to 308291\n",
      "Data columns (total 15 columns):\n",
      " #   Column              Non-Null Count   Dtype  \n",
      "---  ------              --------------   -----  \n",
      " 0   Real_Estate_Id      308292 non-null  int64  \n",
      " 1   Deeded_Acreage      308292 non-null  float64\n",
      " 2   Total_Sale_Price    308292 non-null  int64  \n",
      " 3   Total_Sale_Date     308292 non-null  object \n",
      " 4   Month_Year_of_Sale  308292 non-null  object \n",
      " 5   Year_of_Sale        308292 non-null  int64  \n",
      " 6   Year_Built          308292 non-null  int64  \n",
      " 7   Year_Remodeled      308292 non-null  int64  \n",
      " 8   Heated_Area         308292 non-null  int64  \n",
      " 9   Num_Stories         308292 non-null  object \n",
      " 10  Design_Style        308292 non-null  object \n",
      " 11  Bath                308275 non-null  object \n",
      " 12  Utilities           306324 non-null  object \n",
      " 13  Physical_City       308183 non-null  object \n",
      " 14  Physical_Zip        308146 non-null  float64\n",
      "dtypes: float64(2), int64(6), object(7)\n",
      "memory usage: 35.3+ MB\n"
     ]
    }
   ],
   "source": [
    "real_estate.info()"
   ],
   "metadata": {
    "collapsed": false,
    "pycharm": {
     "name": "#%%\n"
    }
   }
  },
  {
   "cell_type": "markdown",
   "source": [
    "## Data Cleaning\n",
    "\n",
    "Dropping the columns that are not needed"
   ],
   "metadata": {
    "collapsed": false
   }
  },
  {
   "cell_type": "code",
   "execution_count": 133,
   "outputs": [
    {
     "name": "stdout",
     "output_type": "stream",
     "text": [
      "<class 'pandas.core.frame.DataFrame'>\n",
      "Int64Index: 306161 entries, 0 to 308291\n",
      "Data columns (total 15 columns):\n",
      " #   Column              Non-Null Count   Dtype  \n",
      "---  ------              --------------   -----  \n",
      " 0   Real_Estate_Id      306161 non-null  int64  \n",
      " 1   Deeded_Acreage      306161 non-null  float64\n",
      " 2   Total_Sale_Price    306161 non-null  int64  \n",
      " 3   Total_Sale_Date     306161 non-null  object \n",
      " 4   Month_Year_of_Sale  306161 non-null  object \n",
      " 5   Year_of_Sale        306161 non-null  int64  \n",
      " 6   Year_Built          306161 non-null  int64  \n",
      " 7   Year_Remodeled      306161 non-null  int64  \n",
      " 8   Heated_Area         306161 non-null  int64  \n",
      " 9   Num_Stories         306161 non-null  object \n",
      " 10  Design_Style        306161 non-null  object \n",
      " 11  Bath                306161 non-null  object \n",
      " 12  Utilities           306161 non-null  object \n",
      " 13  Physical_City       306161 non-null  object \n",
      " 14  Physical_Zip        306161 non-null  float64\n",
      "dtypes: float64(2), int64(6), object(7)\n",
      "memory usage: 37.4+ MB\n"
     ]
    }
   ],
   "source": [
    "real_estate.dropna(inplace=True)\n",
    "real_estate.info()"
   ],
   "metadata": {
    "collapsed": false,
    "pycharm": {
     "name": "#%%\n"
    }
   }
  },
  {
   "cell_type": "code",
   "execution_count": 134,
   "outputs": [
    {
     "data": {
      "text/plain": "Index(['Real_Estate_Id', 'Deeded_Acreage', 'Total_Sale_Price',\n       'Total_Sale_Date', 'Month_Year_of_Sale', 'Year_of_Sale', 'Year_Built',\n       'Year_Remodeled', 'Heated_Area', 'Num_Stories', 'Design_Style', 'Bath',\n       'Utilities', 'Physical_City', 'Physical_Zip'],\n      dtype='object')"
     },
     "execution_count": 134,
     "metadata": {},
     "output_type": "execute_result"
    }
   ],
   "source": [
    "real_estate.keys()"
   ],
   "metadata": {
    "collapsed": false,
    "pycharm": {
     "name": "#%%\n"
    }
   }
  },
  {
   "cell_type": "markdown",
   "source": [
    "### Convert the Date to datetime"
   ],
   "metadata": {
    "collapsed": false
   }
  },
  {
   "cell_type": "code",
   "execution_count": 135,
   "outputs": [],
   "source": [
    "real_estate['total_sale_datetime'] = pd.to_datetime(real_estate['Total_Sale_Date'])"
   ],
   "metadata": {
    "collapsed": false,
    "pycharm": {
     "name": "#%%\n"
    }
   }
  },
  {
   "cell_type": "code",
   "execution_count": 136,
   "outputs": [
    {
     "data": {
      "text/plain": "   Real_Estate_Id  Deeded_Acreage  Total_Sale_Price Total_Sale_Date  \\\n0              19            0.21             34500        1/1/1974   \n1              20            0.46             35500       5/18/1983   \n2              22            0.46             37500       9/16/2004   \n3              25            0.96             70000        1/1/1971   \n4              30            0.47            380000       8/12/2015   \n5              31            0.39            337500       7/17/2002   \n6              33            0.50             32500        2/6/1979   \n7              34            0.70             19500        1/1/1968   \n8              35            0.49            319000       1/16/1996   \n9              37            0.13            425000       4/15/2008   \n\n  Month_Year_of_Sale  Year_of_Sale  Year_Built  Year_Remodeled  Heated_Area  \\\n0       January 1974          1974        1964            1964         1828   \n1           May 1983          1983        1970            1970         1240   \n2     September 2004          2004        1900            1900         2261   \n3       January 1971          1971        1971            1971         3770   \n4        August 2015          2015        1946            2017         1789   \n5          July 2002          2002        1970            1970         2463   \n6      February 1979          1979        1969            1969         2389   \n7       January 1968          1968        1968            1968         1280   \n8       January 1996          1996        1938            1938         4650   \n9         April 2008          2008        1921            1921         1890   \n\n  Num_Stories  Design_Style     Bath Utilities Physical_City  Physical_Zip  \\\n0   One Story   Split level   2 Bath       ALL       Raleigh       27610.0   \n1   One Story  Conventional   1 Bath         E       Raleigh       27610.0   \n2   One Story  Conventional   2 Bath       WSE       Wendell       27591.0   \n3   One Story  Conventional    Other       WGE       Raleigh       27613.0   \n4   One Story  Conventional   2 Bath       ALL       Raleigh       27607.0   \n5   One Story  Conventional   2 Bath       ALL       Raleigh       27615.0   \n6   One Story         Ranch   3 Bath       WGE       Raleigh       27607.0   \n7   One Story  Conventional   2 Bath       ALL       Raleigh       27606.0   \n8   Two Story  Conventional  3½ Bath       ALL       Raleigh       27608.0   \n9       Other  Conventional   2 Bath       ALL       Raleigh       27604.0   \n\n  total_sale_datetime  \n0          1974-01-01  \n1          1983-05-18  \n2          2004-09-16  \n3          1971-01-01  \n4          2015-08-12  \n5          2002-07-17  \n6          1979-02-06  \n7          1968-01-01  \n8          1996-01-16  \n9          2008-04-15  ",
      "text/html": "<div>\n<style scoped>\n    .dataframe tbody tr th:only-of-type {\n        vertical-align: middle;\n    }\n\n    .dataframe tbody tr th {\n        vertical-align: top;\n    }\n\n    .dataframe thead th {\n        text-align: right;\n    }\n</style>\n<table border=\"1\" class=\"dataframe\">\n  <thead>\n    <tr style=\"text-align: right;\">\n      <th></th>\n      <th>Real_Estate_Id</th>\n      <th>Deeded_Acreage</th>\n      <th>Total_Sale_Price</th>\n      <th>Total_Sale_Date</th>\n      <th>Month_Year_of_Sale</th>\n      <th>Year_of_Sale</th>\n      <th>Year_Built</th>\n      <th>Year_Remodeled</th>\n      <th>Heated_Area</th>\n      <th>Num_Stories</th>\n      <th>Design_Style</th>\n      <th>Bath</th>\n      <th>Utilities</th>\n      <th>Physical_City</th>\n      <th>Physical_Zip</th>\n      <th>total_sale_datetime</th>\n    </tr>\n  </thead>\n  <tbody>\n    <tr>\n      <th>0</th>\n      <td>19</td>\n      <td>0.21</td>\n      <td>34500</td>\n      <td>1/1/1974</td>\n      <td>January 1974</td>\n      <td>1974</td>\n      <td>1964</td>\n      <td>1964</td>\n      <td>1828</td>\n      <td>One Story</td>\n      <td>Split level</td>\n      <td>2 Bath</td>\n      <td>ALL</td>\n      <td>Raleigh</td>\n      <td>27610.0</td>\n      <td>1974-01-01</td>\n    </tr>\n    <tr>\n      <th>1</th>\n      <td>20</td>\n      <td>0.46</td>\n      <td>35500</td>\n      <td>5/18/1983</td>\n      <td>May 1983</td>\n      <td>1983</td>\n      <td>1970</td>\n      <td>1970</td>\n      <td>1240</td>\n      <td>One Story</td>\n      <td>Conventional</td>\n      <td>1 Bath</td>\n      <td>E</td>\n      <td>Raleigh</td>\n      <td>27610.0</td>\n      <td>1983-05-18</td>\n    </tr>\n    <tr>\n      <th>2</th>\n      <td>22</td>\n      <td>0.46</td>\n      <td>37500</td>\n      <td>9/16/2004</td>\n      <td>September 2004</td>\n      <td>2004</td>\n      <td>1900</td>\n      <td>1900</td>\n      <td>2261</td>\n      <td>One Story</td>\n      <td>Conventional</td>\n      <td>2 Bath</td>\n      <td>WSE</td>\n      <td>Wendell</td>\n      <td>27591.0</td>\n      <td>2004-09-16</td>\n    </tr>\n    <tr>\n      <th>3</th>\n      <td>25</td>\n      <td>0.96</td>\n      <td>70000</td>\n      <td>1/1/1971</td>\n      <td>January 1971</td>\n      <td>1971</td>\n      <td>1971</td>\n      <td>1971</td>\n      <td>3770</td>\n      <td>One Story</td>\n      <td>Conventional</td>\n      <td>Other</td>\n      <td>WGE</td>\n      <td>Raleigh</td>\n      <td>27613.0</td>\n      <td>1971-01-01</td>\n    </tr>\n    <tr>\n      <th>4</th>\n      <td>30</td>\n      <td>0.47</td>\n      <td>380000</td>\n      <td>8/12/2015</td>\n      <td>August 2015</td>\n      <td>2015</td>\n      <td>1946</td>\n      <td>2017</td>\n      <td>1789</td>\n      <td>One Story</td>\n      <td>Conventional</td>\n      <td>2 Bath</td>\n      <td>ALL</td>\n      <td>Raleigh</td>\n      <td>27607.0</td>\n      <td>2015-08-12</td>\n    </tr>\n    <tr>\n      <th>5</th>\n      <td>31</td>\n      <td>0.39</td>\n      <td>337500</td>\n      <td>7/17/2002</td>\n      <td>July 2002</td>\n      <td>2002</td>\n      <td>1970</td>\n      <td>1970</td>\n      <td>2463</td>\n      <td>One Story</td>\n      <td>Conventional</td>\n      <td>2 Bath</td>\n      <td>ALL</td>\n      <td>Raleigh</td>\n      <td>27615.0</td>\n      <td>2002-07-17</td>\n    </tr>\n    <tr>\n      <th>6</th>\n      <td>33</td>\n      <td>0.50</td>\n      <td>32500</td>\n      <td>2/6/1979</td>\n      <td>February 1979</td>\n      <td>1979</td>\n      <td>1969</td>\n      <td>1969</td>\n      <td>2389</td>\n      <td>One Story</td>\n      <td>Ranch</td>\n      <td>3 Bath</td>\n      <td>WGE</td>\n      <td>Raleigh</td>\n      <td>27607.0</td>\n      <td>1979-02-06</td>\n    </tr>\n    <tr>\n      <th>7</th>\n      <td>34</td>\n      <td>0.70</td>\n      <td>19500</td>\n      <td>1/1/1968</td>\n      <td>January 1968</td>\n      <td>1968</td>\n      <td>1968</td>\n      <td>1968</td>\n      <td>1280</td>\n      <td>One Story</td>\n      <td>Conventional</td>\n      <td>2 Bath</td>\n      <td>ALL</td>\n      <td>Raleigh</td>\n      <td>27606.0</td>\n      <td>1968-01-01</td>\n    </tr>\n    <tr>\n      <th>8</th>\n      <td>35</td>\n      <td>0.49</td>\n      <td>319000</td>\n      <td>1/16/1996</td>\n      <td>January 1996</td>\n      <td>1996</td>\n      <td>1938</td>\n      <td>1938</td>\n      <td>4650</td>\n      <td>Two Story</td>\n      <td>Conventional</td>\n      <td>3½ Bath</td>\n      <td>ALL</td>\n      <td>Raleigh</td>\n      <td>27608.0</td>\n      <td>1996-01-16</td>\n    </tr>\n    <tr>\n      <th>9</th>\n      <td>37</td>\n      <td>0.13</td>\n      <td>425000</td>\n      <td>4/15/2008</td>\n      <td>April 2008</td>\n      <td>2008</td>\n      <td>1921</td>\n      <td>1921</td>\n      <td>1890</td>\n      <td>Other</td>\n      <td>Conventional</td>\n      <td>2 Bath</td>\n      <td>ALL</td>\n      <td>Raleigh</td>\n      <td>27604.0</td>\n      <td>2008-04-15</td>\n    </tr>\n  </tbody>\n</table>\n</div>"
     },
     "execution_count": 136,
     "metadata": {},
     "output_type": "execute_result"
    }
   ],
   "source": [
    "real_estate.head(10)"
   ],
   "metadata": {
    "collapsed": false,
    "pycharm": {
     "name": "#%%\n"
    }
   }
  },
  {
   "cell_type": "markdown",
   "source": [
    "### Clean the Month column"
   ],
   "metadata": {
    "collapsed": false
   }
  },
  {
   "cell_type": "code",
   "execution_count": 137,
   "outputs": [],
   "source": [
    "real_estate['Month'] = real_estate['Month_Year_of_Sale'].map(lambda x: x.lstrip(' ').rstrip('0123456789'))"
   ],
   "metadata": {
    "collapsed": false,
    "pycharm": {
     "name": "#%%\n"
    }
   }
  },
  {
   "cell_type": "code",
   "execution_count": 138,
   "outputs": [
    {
     "data": {
      "text/plain": "   Real_Estate_Id  Deeded_Acreage  Total_Sale_Price Total_Sale_Date  \\\n0              19            0.21             34500        1/1/1974   \n1              20            0.46             35500       5/18/1983   \n2              22            0.46             37500       9/16/2004   \n3              25            0.96             70000        1/1/1971   \n4              30            0.47            380000       8/12/2015   \n5              31            0.39            337500       7/17/2002   \n6              33            0.50             32500        2/6/1979   \n7              34            0.70             19500        1/1/1968   \n8              35            0.49            319000       1/16/1996   \n9              37            0.13            425000       4/15/2008   \n\n  Month_Year_of_Sale  Year_of_Sale  Year_Built  Year_Remodeled  Heated_Area  \\\n0       January 1974          1974        1964            1964         1828   \n1           May 1983          1983        1970            1970         1240   \n2     September 2004          2004        1900            1900         2261   \n3       January 1971          1971        1971            1971         3770   \n4        August 2015          2015        1946            2017         1789   \n5          July 2002          2002        1970            1970         2463   \n6      February 1979          1979        1969            1969         2389   \n7       January 1968          1968        1968            1968         1280   \n8       January 1996          1996        1938            1938         4650   \n9         April 2008          2008        1921            1921         1890   \n\n  Num_Stories  Design_Style     Bath Utilities Physical_City  Physical_Zip  \\\n0   One Story   Split level   2 Bath       ALL       Raleigh       27610.0   \n1   One Story  Conventional   1 Bath         E       Raleigh       27610.0   \n2   One Story  Conventional   2 Bath       WSE       Wendell       27591.0   \n3   One Story  Conventional    Other       WGE       Raleigh       27613.0   \n4   One Story  Conventional   2 Bath       ALL       Raleigh       27607.0   \n5   One Story  Conventional   2 Bath       ALL       Raleigh       27615.0   \n6   One Story         Ranch   3 Bath       WGE       Raleigh       27607.0   \n7   One Story  Conventional   2 Bath       ALL       Raleigh       27606.0   \n8   Two Story  Conventional  3½ Bath       ALL       Raleigh       27608.0   \n9       Other  Conventional   2 Bath       ALL       Raleigh       27604.0   \n\n  total_sale_datetime       Month  \n0          1974-01-01    January   \n1          1983-05-18        May   \n2          2004-09-16  September   \n3          1971-01-01    January   \n4          2015-08-12     August   \n5          2002-07-17       July   \n6          1979-02-06   February   \n7          1968-01-01    January   \n8          1996-01-16    January   \n9          2008-04-15      April   ",
      "text/html": "<div>\n<style scoped>\n    .dataframe tbody tr th:only-of-type {\n        vertical-align: middle;\n    }\n\n    .dataframe tbody tr th {\n        vertical-align: top;\n    }\n\n    .dataframe thead th {\n        text-align: right;\n    }\n</style>\n<table border=\"1\" class=\"dataframe\">\n  <thead>\n    <tr style=\"text-align: right;\">\n      <th></th>\n      <th>Real_Estate_Id</th>\n      <th>Deeded_Acreage</th>\n      <th>Total_Sale_Price</th>\n      <th>Total_Sale_Date</th>\n      <th>Month_Year_of_Sale</th>\n      <th>Year_of_Sale</th>\n      <th>Year_Built</th>\n      <th>Year_Remodeled</th>\n      <th>Heated_Area</th>\n      <th>Num_Stories</th>\n      <th>Design_Style</th>\n      <th>Bath</th>\n      <th>Utilities</th>\n      <th>Physical_City</th>\n      <th>Physical_Zip</th>\n      <th>total_sale_datetime</th>\n      <th>Month</th>\n    </tr>\n  </thead>\n  <tbody>\n    <tr>\n      <th>0</th>\n      <td>19</td>\n      <td>0.21</td>\n      <td>34500</td>\n      <td>1/1/1974</td>\n      <td>January 1974</td>\n      <td>1974</td>\n      <td>1964</td>\n      <td>1964</td>\n      <td>1828</td>\n      <td>One Story</td>\n      <td>Split level</td>\n      <td>2 Bath</td>\n      <td>ALL</td>\n      <td>Raleigh</td>\n      <td>27610.0</td>\n      <td>1974-01-01</td>\n      <td>January</td>\n    </tr>\n    <tr>\n      <th>1</th>\n      <td>20</td>\n      <td>0.46</td>\n      <td>35500</td>\n      <td>5/18/1983</td>\n      <td>May 1983</td>\n      <td>1983</td>\n      <td>1970</td>\n      <td>1970</td>\n      <td>1240</td>\n      <td>One Story</td>\n      <td>Conventional</td>\n      <td>1 Bath</td>\n      <td>E</td>\n      <td>Raleigh</td>\n      <td>27610.0</td>\n      <td>1983-05-18</td>\n      <td>May</td>\n    </tr>\n    <tr>\n      <th>2</th>\n      <td>22</td>\n      <td>0.46</td>\n      <td>37500</td>\n      <td>9/16/2004</td>\n      <td>September 2004</td>\n      <td>2004</td>\n      <td>1900</td>\n      <td>1900</td>\n      <td>2261</td>\n      <td>One Story</td>\n      <td>Conventional</td>\n      <td>2 Bath</td>\n      <td>WSE</td>\n      <td>Wendell</td>\n      <td>27591.0</td>\n      <td>2004-09-16</td>\n      <td>September</td>\n    </tr>\n    <tr>\n      <th>3</th>\n      <td>25</td>\n      <td>0.96</td>\n      <td>70000</td>\n      <td>1/1/1971</td>\n      <td>January 1971</td>\n      <td>1971</td>\n      <td>1971</td>\n      <td>1971</td>\n      <td>3770</td>\n      <td>One Story</td>\n      <td>Conventional</td>\n      <td>Other</td>\n      <td>WGE</td>\n      <td>Raleigh</td>\n      <td>27613.0</td>\n      <td>1971-01-01</td>\n      <td>January</td>\n    </tr>\n    <tr>\n      <th>4</th>\n      <td>30</td>\n      <td>0.47</td>\n      <td>380000</td>\n      <td>8/12/2015</td>\n      <td>August 2015</td>\n      <td>2015</td>\n      <td>1946</td>\n      <td>2017</td>\n      <td>1789</td>\n      <td>One Story</td>\n      <td>Conventional</td>\n      <td>2 Bath</td>\n      <td>ALL</td>\n      <td>Raleigh</td>\n      <td>27607.0</td>\n      <td>2015-08-12</td>\n      <td>August</td>\n    </tr>\n    <tr>\n      <th>5</th>\n      <td>31</td>\n      <td>0.39</td>\n      <td>337500</td>\n      <td>7/17/2002</td>\n      <td>July 2002</td>\n      <td>2002</td>\n      <td>1970</td>\n      <td>1970</td>\n      <td>2463</td>\n      <td>One Story</td>\n      <td>Conventional</td>\n      <td>2 Bath</td>\n      <td>ALL</td>\n      <td>Raleigh</td>\n      <td>27615.0</td>\n      <td>2002-07-17</td>\n      <td>July</td>\n    </tr>\n    <tr>\n      <th>6</th>\n      <td>33</td>\n      <td>0.50</td>\n      <td>32500</td>\n      <td>2/6/1979</td>\n      <td>February 1979</td>\n      <td>1979</td>\n      <td>1969</td>\n      <td>1969</td>\n      <td>2389</td>\n      <td>One Story</td>\n      <td>Ranch</td>\n      <td>3 Bath</td>\n      <td>WGE</td>\n      <td>Raleigh</td>\n      <td>27607.0</td>\n      <td>1979-02-06</td>\n      <td>February</td>\n    </tr>\n    <tr>\n      <th>7</th>\n      <td>34</td>\n      <td>0.70</td>\n      <td>19500</td>\n      <td>1/1/1968</td>\n      <td>January 1968</td>\n      <td>1968</td>\n      <td>1968</td>\n      <td>1968</td>\n      <td>1280</td>\n      <td>One Story</td>\n      <td>Conventional</td>\n      <td>2 Bath</td>\n      <td>ALL</td>\n      <td>Raleigh</td>\n      <td>27606.0</td>\n      <td>1968-01-01</td>\n      <td>January</td>\n    </tr>\n    <tr>\n      <th>8</th>\n      <td>35</td>\n      <td>0.49</td>\n      <td>319000</td>\n      <td>1/16/1996</td>\n      <td>January 1996</td>\n      <td>1996</td>\n      <td>1938</td>\n      <td>1938</td>\n      <td>4650</td>\n      <td>Two Story</td>\n      <td>Conventional</td>\n      <td>3½ Bath</td>\n      <td>ALL</td>\n      <td>Raleigh</td>\n      <td>27608.0</td>\n      <td>1996-01-16</td>\n      <td>January</td>\n    </tr>\n    <tr>\n      <th>9</th>\n      <td>37</td>\n      <td>0.13</td>\n      <td>425000</td>\n      <td>4/15/2008</td>\n      <td>April 2008</td>\n      <td>2008</td>\n      <td>1921</td>\n      <td>1921</td>\n      <td>1890</td>\n      <td>Other</td>\n      <td>Conventional</td>\n      <td>2 Bath</td>\n      <td>ALL</td>\n      <td>Raleigh</td>\n      <td>27604.0</td>\n      <td>2008-04-15</td>\n      <td>April</td>\n    </tr>\n  </tbody>\n</table>\n</div>"
     },
     "execution_count": 138,
     "metadata": {},
     "output_type": "execute_result"
    }
   ],
   "source": [
    "real_estate.head(10)"
   ],
   "metadata": {
    "collapsed": false,
    "pycharm": {
     "name": "#%%\n"
    }
   }
  },
  {
   "cell_type": "markdown",
   "source": [
    "### Drop unnecessary columns"
   ],
   "metadata": {
    "collapsed": false
   }
  },
  {
   "cell_type": "code",
   "execution_count": 139,
   "outputs": [],
   "source": [
    "real_estate = real_estate.drop(columns=['Total_Sale_Date', 'Month_Year_of_Sale', 'Utilities', 'Num_Stories', 'Physical_City'])"
   ],
   "metadata": {
    "collapsed": false,
    "pycharm": {
     "name": "#%%\n"
    }
   }
  },
  {
   "cell_type": "code",
   "execution_count": 140,
   "outputs": [
    {
     "data": {
      "text/plain": "   Real_Estate_Id  Deeded_Acreage  Total_Sale_Price  Year_of_Sale  Year_Built  \\\n0              19            0.21             34500          1974        1964   \n1              20            0.46             35500          1983        1970   \n2              22            0.46             37500          2004        1900   \n3              25            0.96             70000          1971        1971   \n4              30            0.47            380000          2015        1946   \n5              31            0.39            337500          2002        1970   \n6              33            0.50             32500          1979        1969   \n7              34            0.70             19500          1968        1968   \n8              35            0.49            319000          1996        1938   \n9              37            0.13            425000          2008        1921   \n\n   Year_Remodeled  Heated_Area  Design_Style     Bath  Physical_Zip  \\\n0            1964         1828   Split level   2 Bath       27610.0   \n1            1970         1240  Conventional   1 Bath       27610.0   \n2            1900         2261  Conventional   2 Bath       27591.0   \n3            1971         3770  Conventional    Other       27613.0   \n4            2017         1789  Conventional   2 Bath       27607.0   \n5            1970         2463  Conventional   2 Bath       27615.0   \n6            1969         2389         Ranch   3 Bath       27607.0   \n7            1968         1280  Conventional   2 Bath       27606.0   \n8            1938         4650  Conventional  3½ Bath       27608.0   \n9            1921         1890  Conventional   2 Bath       27604.0   \n\n  total_sale_datetime       Month  \n0          1974-01-01    January   \n1          1983-05-18        May   \n2          2004-09-16  September   \n3          1971-01-01    January   \n4          2015-08-12     August   \n5          2002-07-17       July   \n6          1979-02-06   February   \n7          1968-01-01    January   \n8          1996-01-16    January   \n9          2008-04-15      April   ",
      "text/html": "<div>\n<style scoped>\n    .dataframe tbody tr th:only-of-type {\n        vertical-align: middle;\n    }\n\n    .dataframe tbody tr th {\n        vertical-align: top;\n    }\n\n    .dataframe thead th {\n        text-align: right;\n    }\n</style>\n<table border=\"1\" class=\"dataframe\">\n  <thead>\n    <tr style=\"text-align: right;\">\n      <th></th>\n      <th>Real_Estate_Id</th>\n      <th>Deeded_Acreage</th>\n      <th>Total_Sale_Price</th>\n      <th>Year_of_Sale</th>\n      <th>Year_Built</th>\n      <th>Year_Remodeled</th>\n      <th>Heated_Area</th>\n      <th>Design_Style</th>\n      <th>Bath</th>\n      <th>Physical_Zip</th>\n      <th>total_sale_datetime</th>\n      <th>Month</th>\n    </tr>\n  </thead>\n  <tbody>\n    <tr>\n      <th>0</th>\n      <td>19</td>\n      <td>0.21</td>\n      <td>34500</td>\n      <td>1974</td>\n      <td>1964</td>\n      <td>1964</td>\n      <td>1828</td>\n      <td>Split level</td>\n      <td>2 Bath</td>\n      <td>27610.0</td>\n      <td>1974-01-01</td>\n      <td>January</td>\n    </tr>\n    <tr>\n      <th>1</th>\n      <td>20</td>\n      <td>0.46</td>\n      <td>35500</td>\n      <td>1983</td>\n      <td>1970</td>\n      <td>1970</td>\n      <td>1240</td>\n      <td>Conventional</td>\n      <td>1 Bath</td>\n      <td>27610.0</td>\n      <td>1983-05-18</td>\n      <td>May</td>\n    </tr>\n    <tr>\n      <th>2</th>\n      <td>22</td>\n      <td>0.46</td>\n      <td>37500</td>\n      <td>2004</td>\n      <td>1900</td>\n      <td>1900</td>\n      <td>2261</td>\n      <td>Conventional</td>\n      <td>2 Bath</td>\n      <td>27591.0</td>\n      <td>2004-09-16</td>\n      <td>September</td>\n    </tr>\n    <tr>\n      <th>3</th>\n      <td>25</td>\n      <td>0.96</td>\n      <td>70000</td>\n      <td>1971</td>\n      <td>1971</td>\n      <td>1971</td>\n      <td>3770</td>\n      <td>Conventional</td>\n      <td>Other</td>\n      <td>27613.0</td>\n      <td>1971-01-01</td>\n      <td>January</td>\n    </tr>\n    <tr>\n      <th>4</th>\n      <td>30</td>\n      <td>0.47</td>\n      <td>380000</td>\n      <td>2015</td>\n      <td>1946</td>\n      <td>2017</td>\n      <td>1789</td>\n      <td>Conventional</td>\n      <td>2 Bath</td>\n      <td>27607.0</td>\n      <td>2015-08-12</td>\n      <td>August</td>\n    </tr>\n    <tr>\n      <th>5</th>\n      <td>31</td>\n      <td>0.39</td>\n      <td>337500</td>\n      <td>2002</td>\n      <td>1970</td>\n      <td>1970</td>\n      <td>2463</td>\n      <td>Conventional</td>\n      <td>2 Bath</td>\n      <td>27615.0</td>\n      <td>2002-07-17</td>\n      <td>July</td>\n    </tr>\n    <tr>\n      <th>6</th>\n      <td>33</td>\n      <td>0.50</td>\n      <td>32500</td>\n      <td>1979</td>\n      <td>1969</td>\n      <td>1969</td>\n      <td>2389</td>\n      <td>Ranch</td>\n      <td>3 Bath</td>\n      <td>27607.0</td>\n      <td>1979-02-06</td>\n      <td>February</td>\n    </tr>\n    <tr>\n      <th>7</th>\n      <td>34</td>\n      <td>0.70</td>\n      <td>19500</td>\n      <td>1968</td>\n      <td>1968</td>\n      <td>1968</td>\n      <td>1280</td>\n      <td>Conventional</td>\n      <td>2 Bath</td>\n      <td>27606.0</td>\n      <td>1968-01-01</td>\n      <td>January</td>\n    </tr>\n    <tr>\n      <th>8</th>\n      <td>35</td>\n      <td>0.49</td>\n      <td>319000</td>\n      <td>1996</td>\n      <td>1938</td>\n      <td>1938</td>\n      <td>4650</td>\n      <td>Conventional</td>\n      <td>3½ Bath</td>\n      <td>27608.0</td>\n      <td>1996-01-16</td>\n      <td>January</td>\n    </tr>\n    <tr>\n      <th>9</th>\n      <td>37</td>\n      <td>0.13</td>\n      <td>425000</td>\n      <td>2008</td>\n      <td>1921</td>\n      <td>1921</td>\n      <td>1890</td>\n      <td>Conventional</td>\n      <td>2 Bath</td>\n      <td>27604.0</td>\n      <td>2008-04-15</td>\n      <td>April</td>\n    </tr>\n  </tbody>\n</table>\n</div>"
     },
     "execution_count": 140,
     "metadata": {},
     "output_type": "execute_result"
    }
   ],
   "source": [
    "real_estate.head(10)"
   ],
   "metadata": {
    "collapsed": false,
    "pycharm": {
     "name": "#%%\n"
    }
   }
  },
  {
   "cell_type": "markdown",
   "source": [
    "### Converting the data to numeric"
   ],
   "metadata": {
    "collapsed": false
   }
  },
  {
   "cell_type": "code",
   "execution_count": 141,
   "outputs": [
    {
     "data": {
      "text/plain": "   Design_Style     Bath       Month\n0   Split level   2 Bath    January \n1  Conventional   1 Bath        May \n2  Conventional   2 Bath  September \n3  Conventional    Other    January \n4  Conventional   2 Bath     August \n5  Conventional   2 Bath       July \n6         Ranch   3 Bath   February \n7  Conventional   2 Bath    January \n8  Conventional  3½ Bath    January \n9  Conventional   2 Bath      April ",
      "text/html": "<div>\n<style scoped>\n    .dataframe tbody tr th:only-of-type {\n        vertical-align: middle;\n    }\n\n    .dataframe tbody tr th {\n        vertical-align: top;\n    }\n\n    .dataframe thead th {\n        text-align: right;\n    }\n</style>\n<table border=\"1\" class=\"dataframe\">\n  <thead>\n    <tr style=\"text-align: right;\">\n      <th></th>\n      <th>Design_Style</th>\n      <th>Bath</th>\n      <th>Month</th>\n    </tr>\n  </thead>\n  <tbody>\n    <tr>\n      <th>0</th>\n      <td>Split level</td>\n      <td>2 Bath</td>\n      <td>January</td>\n    </tr>\n    <tr>\n      <th>1</th>\n      <td>Conventional</td>\n      <td>1 Bath</td>\n      <td>May</td>\n    </tr>\n    <tr>\n      <th>2</th>\n      <td>Conventional</td>\n      <td>2 Bath</td>\n      <td>September</td>\n    </tr>\n    <tr>\n      <th>3</th>\n      <td>Conventional</td>\n      <td>Other</td>\n      <td>January</td>\n    </tr>\n    <tr>\n      <th>4</th>\n      <td>Conventional</td>\n      <td>2 Bath</td>\n      <td>August</td>\n    </tr>\n    <tr>\n      <th>5</th>\n      <td>Conventional</td>\n      <td>2 Bath</td>\n      <td>July</td>\n    </tr>\n    <tr>\n      <th>6</th>\n      <td>Ranch</td>\n      <td>3 Bath</td>\n      <td>February</td>\n    </tr>\n    <tr>\n      <th>7</th>\n      <td>Conventional</td>\n      <td>2 Bath</td>\n      <td>January</td>\n    </tr>\n    <tr>\n      <th>8</th>\n      <td>Conventional</td>\n      <td>3½ Bath</td>\n      <td>January</td>\n    </tr>\n    <tr>\n      <th>9</th>\n      <td>Conventional</td>\n      <td>2 Bath</td>\n      <td>April</td>\n    </tr>\n  </tbody>\n</table>\n</div>"
     },
     "execution_count": 141,
     "metadata": {},
     "output_type": "execute_result"
    }
   ],
   "source": [
    "re_categoricals = real_estate.select_dtypes(include=['object']).copy()\n",
    "re_categoricals.head(10)"
   ],
   "metadata": {
    "collapsed": false,
    "pycharm": {
     "name": "#%%\n"
    }
   }
  },
  {
   "cell_type": "markdown",
   "source": [
    "### Ordinal Encoder"
   ],
   "metadata": {
    "collapsed": false
   }
  },
  {
   "cell_type": "code",
   "execution_count": 142,
   "outputs": [
    {
     "data": {
      "text/plain": "   Design_Style  Bath  Month\n0          12.0   2.0    4.0\n1           4.0   0.0    8.0\n2           4.0   2.0   11.0\n3           4.0   6.0    4.0\n4           4.0   2.0    1.0\n5           4.0   2.0    5.0\n6          10.0   4.0    3.0\n7           4.0   2.0    4.0\n8           4.0   5.0    4.0\n9           4.0   2.0    0.0",
      "text/html": "<div>\n<style scoped>\n    .dataframe tbody tr th:only-of-type {\n        vertical-align: middle;\n    }\n\n    .dataframe tbody tr th {\n        vertical-align: top;\n    }\n\n    .dataframe thead th {\n        text-align: right;\n    }\n</style>\n<table border=\"1\" class=\"dataframe\">\n  <thead>\n    <tr style=\"text-align: right;\">\n      <th></th>\n      <th>Design_Style</th>\n      <th>Bath</th>\n      <th>Month</th>\n    </tr>\n  </thead>\n  <tbody>\n    <tr>\n      <th>0</th>\n      <td>12.0</td>\n      <td>2.0</td>\n      <td>4.0</td>\n    </tr>\n    <tr>\n      <th>1</th>\n      <td>4.0</td>\n      <td>0.0</td>\n      <td>8.0</td>\n    </tr>\n    <tr>\n      <th>2</th>\n      <td>4.0</td>\n      <td>2.0</td>\n      <td>11.0</td>\n    </tr>\n    <tr>\n      <th>3</th>\n      <td>4.0</td>\n      <td>6.0</td>\n      <td>4.0</td>\n    </tr>\n    <tr>\n      <th>4</th>\n      <td>4.0</td>\n      <td>2.0</td>\n      <td>1.0</td>\n    </tr>\n    <tr>\n      <th>5</th>\n      <td>4.0</td>\n      <td>2.0</td>\n      <td>5.0</td>\n    </tr>\n    <tr>\n      <th>6</th>\n      <td>10.0</td>\n      <td>4.0</td>\n      <td>3.0</td>\n    </tr>\n    <tr>\n      <th>7</th>\n      <td>4.0</td>\n      <td>2.0</td>\n      <td>4.0</td>\n    </tr>\n    <tr>\n      <th>8</th>\n      <td>4.0</td>\n      <td>5.0</td>\n      <td>4.0</td>\n    </tr>\n    <tr>\n      <th>9</th>\n      <td>4.0</td>\n      <td>2.0</td>\n      <td>0.0</td>\n    </tr>\n  </tbody>\n</table>\n</div>"
     },
     "execution_count": 142,
     "metadata": {},
     "output_type": "execute_result"
    }
   ],
   "source": [
    "from sklearn.preprocessing import OrdinalEncoder\n",
    "\n",
    "ordinal_encoder = OrdinalEncoder()\n",
    "re_categoricals_encoded = pd.DataFrame(ordinal_encoder.fit_transform(re_categoricals), columns=re_categoricals.columns)\n",
    "re_categoricals_encoded.head(10)"
   ],
   "metadata": {
    "collapsed": false,
    "pycharm": {
     "name": "#%%\n"
    }
   }
  },
  {
   "cell_type": "markdown",
   "source": [
    "### One Hot Encoding"
   ],
   "metadata": {
    "collapsed": false
   }
  },
  {
   "cell_type": "code",
   "execution_count": 143,
   "outputs": [
    {
     "data": {
      "text/plain": "   Real_Estate_Id  Deeded_Acreage  Total_Sale_Price  Year_of_Sale  Year_Built  \\\n0            19.0            0.21           34500.0        1974.0      1964.0   \n1            20.0            0.46           35500.0        1983.0      1970.0   \n2            22.0            0.46           37500.0        2004.0      1900.0   \n3            25.0            0.96           70000.0        1971.0      1971.0   \n4            30.0            0.47          380000.0        2015.0      1946.0   \n5            31.0            0.39          337500.0        2002.0      1970.0   \n6            33.0            0.50           32500.0        1979.0      1969.0   \n7            34.0            0.70           19500.0        1968.0      1968.0   \n8            35.0            0.49          319000.0        1996.0      1938.0   \n9            37.0            0.13          425000.0        2008.0      1921.0   \n\n   Year_Remodeled  Heated_Area     Bath  Physical_Zip total_sale_datetime  \\\n0          1964.0       1828.0   2 Bath       27610.0          1974-01-01   \n1          1970.0       1240.0   1 Bath       27610.0          1983-05-18   \n2          1900.0       2261.0   2 Bath       27591.0          2004-09-16   \n3          1971.0       3770.0    Other       27613.0          1971-01-01   \n4          2017.0       1789.0   2 Bath       27607.0          2015-08-12   \n5          1970.0       2463.0   2 Bath       27615.0          2002-07-17   \n6          1969.0       2389.0   3 Bath       27607.0          1979-02-06   \n7          1968.0       1280.0   2 Bath       27606.0          1968-01-01   \n8          1938.0       4650.0  3½ Bath       27608.0          1996-01-16   \n9          1921.0       1890.0   2 Bath       27604.0          2008-04-15   \n\n   ... design_style_4  design_style_5  design_style_6  design_style_7  \\\n0  ...            0.0             0.0             0.0             0.0   \n1  ...            1.0             0.0             0.0             0.0   \n2  ...            1.0             0.0             0.0             0.0   \n3  ...            1.0             0.0             0.0             0.0   \n4  ...            1.0             0.0             0.0             0.0   \n5  ...            1.0             0.0             0.0             0.0   \n6  ...            0.0             0.0             0.0             0.0   \n7  ...            1.0             0.0             0.0             0.0   \n8  ...            1.0             0.0             0.0             0.0   \n9  ...            1.0             0.0             0.0             0.0   \n\n   design_style_8  design_style_9  design_style_10  design_style_11  \\\n0             0.0             0.0              0.0              0.0   \n1             0.0             0.0              0.0              0.0   \n2             0.0             0.0              0.0              0.0   \n3             0.0             0.0              0.0              0.0   \n4             0.0             0.0              0.0              0.0   \n5             0.0             0.0              0.0              0.0   \n6             0.0             0.0              1.0              0.0   \n7             0.0             0.0              0.0              0.0   \n8             0.0             0.0              0.0              0.0   \n9             0.0             0.0              0.0              0.0   \n\n   design_style_12  design_style_13  \n0              1.0              0.0  \n1              0.0              0.0  \n2              0.0              0.0  \n3              0.0              0.0  \n4              0.0              0.0  \n5              0.0              0.0  \n6              0.0              0.0  \n7              0.0              0.0  \n8              0.0              0.0  \n9              0.0              0.0  \n\n[10 rows x 25 columns]",
      "text/html": "<div>\n<style scoped>\n    .dataframe tbody tr th:only-of-type {\n        vertical-align: middle;\n    }\n\n    .dataframe tbody tr th {\n        vertical-align: top;\n    }\n\n    .dataframe thead th {\n        text-align: right;\n    }\n</style>\n<table border=\"1\" class=\"dataframe\">\n  <thead>\n    <tr style=\"text-align: right;\">\n      <th></th>\n      <th>Real_Estate_Id</th>\n      <th>Deeded_Acreage</th>\n      <th>Total_Sale_Price</th>\n      <th>Year_of_Sale</th>\n      <th>Year_Built</th>\n      <th>Year_Remodeled</th>\n      <th>Heated_Area</th>\n      <th>Bath</th>\n      <th>Physical_Zip</th>\n      <th>total_sale_datetime</th>\n      <th>...</th>\n      <th>design_style_4</th>\n      <th>design_style_5</th>\n      <th>design_style_6</th>\n      <th>design_style_7</th>\n      <th>design_style_8</th>\n      <th>design_style_9</th>\n      <th>design_style_10</th>\n      <th>design_style_11</th>\n      <th>design_style_12</th>\n      <th>design_style_13</th>\n    </tr>\n  </thead>\n  <tbody>\n    <tr>\n      <th>0</th>\n      <td>19.0</td>\n      <td>0.21</td>\n      <td>34500.0</td>\n      <td>1974.0</td>\n      <td>1964.0</td>\n      <td>1964.0</td>\n      <td>1828.0</td>\n      <td>2 Bath</td>\n      <td>27610.0</td>\n      <td>1974-01-01</td>\n      <td>...</td>\n      <td>0.0</td>\n      <td>0.0</td>\n      <td>0.0</td>\n      <td>0.0</td>\n      <td>0.0</td>\n      <td>0.0</td>\n      <td>0.0</td>\n      <td>0.0</td>\n      <td>1.0</td>\n      <td>0.0</td>\n    </tr>\n    <tr>\n      <th>1</th>\n      <td>20.0</td>\n      <td>0.46</td>\n      <td>35500.0</td>\n      <td>1983.0</td>\n      <td>1970.0</td>\n      <td>1970.0</td>\n      <td>1240.0</td>\n      <td>1 Bath</td>\n      <td>27610.0</td>\n      <td>1983-05-18</td>\n      <td>...</td>\n      <td>1.0</td>\n      <td>0.0</td>\n      <td>0.0</td>\n      <td>0.0</td>\n      <td>0.0</td>\n      <td>0.0</td>\n      <td>0.0</td>\n      <td>0.0</td>\n      <td>0.0</td>\n      <td>0.0</td>\n    </tr>\n    <tr>\n      <th>2</th>\n      <td>22.0</td>\n      <td>0.46</td>\n      <td>37500.0</td>\n      <td>2004.0</td>\n      <td>1900.0</td>\n      <td>1900.0</td>\n      <td>2261.0</td>\n      <td>2 Bath</td>\n      <td>27591.0</td>\n      <td>2004-09-16</td>\n      <td>...</td>\n      <td>1.0</td>\n      <td>0.0</td>\n      <td>0.0</td>\n      <td>0.0</td>\n      <td>0.0</td>\n      <td>0.0</td>\n      <td>0.0</td>\n      <td>0.0</td>\n      <td>0.0</td>\n      <td>0.0</td>\n    </tr>\n    <tr>\n      <th>3</th>\n      <td>25.0</td>\n      <td>0.96</td>\n      <td>70000.0</td>\n      <td>1971.0</td>\n      <td>1971.0</td>\n      <td>1971.0</td>\n      <td>3770.0</td>\n      <td>Other</td>\n      <td>27613.0</td>\n      <td>1971-01-01</td>\n      <td>...</td>\n      <td>1.0</td>\n      <td>0.0</td>\n      <td>0.0</td>\n      <td>0.0</td>\n      <td>0.0</td>\n      <td>0.0</td>\n      <td>0.0</td>\n      <td>0.0</td>\n      <td>0.0</td>\n      <td>0.0</td>\n    </tr>\n    <tr>\n      <th>4</th>\n      <td>30.0</td>\n      <td>0.47</td>\n      <td>380000.0</td>\n      <td>2015.0</td>\n      <td>1946.0</td>\n      <td>2017.0</td>\n      <td>1789.0</td>\n      <td>2 Bath</td>\n      <td>27607.0</td>\n      <td>2015-08-12</td>\n      <td>...</td>\n      <td>1.0</td>\n      <td>0.0</td>\n      <td>0.0</td>\n      <td>0.0</td>\n      <td>0.0</td>\n      <td>0.0</td>\n      <td>0.0</td>\n      <td>0.0</td>\n      <td>0.0</td>\n      <td>0.0</td>\n    </tr>\n    <tr>\n      <th>5</th>\n      <td>31.0</td>\n      <td>0.39</td>\n      <td>337500.0</td>\n      <td>2002.0</td>\n      <td>1970.0</td>\n      <td>1970.0</td>\n      <td>2463.0</td>\n      <td>2 Bath</td>\n      <td>27615.0</td>\n      <td>2002-07-17</td>\n      <td>...</td>\n      <td>1.0</td>\n      <td>0.0</td>\n      <td>0.0</td>\n      <td>0.0</td>\n      <td>0.0</td>\n      <td>0.0</td>\n      <td>0.0</td>\n      <td>0.0</td>\n      <td>0.0</td>\n      <td>0.0</td>\n    </tr>\n    <tr>\n      <th>6</th>\n      <td>33.0</td>\n      <td>0.50</td>\n      <td>32500.0</td>\n      <td>1979.0</td>\n      <td>1969.0</td>\n      <td>1969.0</td>\n      <td>2389.0</td>\n      <td>3 Bath</td>\n      <td>27607.0</td>\n      <td>1979-02-06</td>\n      <td>...</td>\n      <td>0.0</td>\n      <td>0.0</td>\n      <td>0.0</td>\n      <td>0.0</td>\n      <td>0.0</td>\n      <td>0.0</td>\n      <td>1.0</td>\n      <td>0.0</td>\n      <td>0.0</td>\n      <td>0.0</td>\n    </tr>\n    <tr>\n      <th>7</th>\n      <td>34.0</td>\n      <td>0.70</td>\n      <td>19500.0</td>\n      <td>1968.0</td>\n      <td>1968.0</td>\n      <td>1968.0</td>\n      <td>1280.0</td>\n      <td>2 Bath</td>\n      <td>27606.0</td>\n      <td>1968-01-01</td>\n      <td>...</td>\n      <td>1.0</td>\n      <td>0.0</td>\n      <td>0.0</td>\n      <td>0.0</td>\n      <td>0.0</td>\n      <td>0.0</td>\n      <td>0.0</td>\n      <td>0.0</td>\n      <td>0.0</td>\n      <td>0.0</td>\n    </tr>\n    <tr>\n      <th>8</th>\n      <td>35.0</td>\n      <td>0.49</td>\n      <td>319000.0</td>\n      <td>1996.0</td>\n      <td>1938.0</td>\n      <td>1938.0</td>\n      <td>4650.0</td>\n      <td>3½ Bath</td>\n      <td>27608.0</td>\n      <td>1996-01-16</td>\n      <td>...</td>\n      <td>1.0</td>\n      <td>0.0</td>\n      <td>0.0</td>\n      <td>0.0</td>\n      <td>0.0</td>\n      <td>0.0</td>\n      <td>0.0</td>\n      <td>0.0</td>\n      <td>0.0</td>\n      <td>0.0</td>\n    </tr>\n    <tr>\n      <th>9</th>\n      <td>37.0</td>\n      <td>0.13</td>\n      <td>425000.0</td>\n      <td>2008.0</td>\n      <td>1921.0</td>\n      <td>1921.0</td>\n      <td>1890.0</td>\n      <td>2 Bath</td>\n      <td>27604.0</td>\n      <td>2008-04-15</td>\n      <td>...</td>\n      <td>1.0</td>\n      <td>0.0</td>\n      <td>0.0</td>\n      <td>0.0</td>\n      <td>0.0</td>\n      <td>0.0</td>\n      <td>0.0</td>\n      <td>0.0</td>\n      <td>0.0</td>\n      <td>0.0</td>\n    </tr>\n  </tbody>\n</table>\n<p>10 rows × 25 columns</p>\n</div>"
     },
     "execution_count": 143,
     "metadata": {},
     "output_type": "execute_result"
    }
   ],
   "source": [
    "from sklearn.preprocessing import OneHotEncoder\n",
    "\n",
    "d_style = real_estate[['Design_Style']]\n",
    "one_hot_encoder = OneHotEncoder()\n",
    "d_style_one_hot = one_hot_encoder.fit_transform(d_style.Design_Style.values.reshape(-1,1)).toarray()\n",
    "dfOneHot = pd.DataFrame(d_style_one_hot, columns = [\"design_style_\"+str(int(i)) for i in range(14)])\n",
    "re_one_hot = pd.concat([real_estate, dfOneHot], axis=1)\n",
    "re_one_hot = re_one_hot.drop(['Design_Style'], axis=1)\n",
    "re_one_hot.head(10)"
   ],
   "metadata": {
    "collapsed": false,
    "pycharm": {
     "name": "#%%\n"
    }
   }
  },
  {
   "cell_type": "markdown",
   "source": [
    "### Creating more numeric data for bath"
   ],
   "metadata": {
    "collapsed": false
   }
  },
  {
   "cell_type": "code",
   "execution_count": 147,
   "outputs": [
    {
     "data": {
      "text/plain": "2½ Bath     128662\n2 Bath       57186\n3½ Bath      53912\n3 Bath       28905\nOther        14362\n1 Bath       12253\n1 ½ Bath     10881\nName: Bath, dtype: int64"
     },
     "execution_count": 147,
     "metadata": {},
     "output_type": "execute_result"
    }
   ],
   "source": [
    "re_one_hot['Bath'].value_counts()"
   ],
   "metadata": {
    "collapsed": false,
    "pycharm": {
     "name": "#%%\n"
    }
   }
  },
  {
   "cell_type": "code",
   "execution_count": 153,
   "outputs": [],
   "source": [
    "def baths_numerics(row) :\n",
    "    if row['Bath'] == '1 Bath':\n",
    "        return 1\n",
    "    elif row['Bath'] == '2 Bath':\n",
    "        return 2\n",
    "    elif row['Bath'] == '3 Bath':\n",
    "        return 3\n",
    "    elif row['Bath'] == '1½ Bath':\n",
    "        return 1.5\n",
    "    elif row['Bath'] == '2½ Bath':\n",
    "        return 2.5\n",
    "    elif row['Bath'] == '3½ Bath':\n",
    "        return 3.5\n",
    "    elif row['Bath'] == 'Other':\n",
    "        return 0\n",
    "\n",
    "re_one_hot['bathrooms'] = re_one_hot.apply(lambda row: baths_numerics(row), axis=1)"
   ],
   "metadata": {
    "collapsed": false,
    "pycharm": {
     "name": "#%%\n"
    }
   }
  },
  {
   "cell_type": "code",
   "execution_count": 154,
   "outputs": [
    {
     "data": {
      "text/plain": "2.5    128662\n2.0     57186\n3.5     53912\n3.0     28905\n0.0     14362\n1.0     12253\nName: bathrooms, dtype: int64"
     },
     "execution_count": 154,
     "metadata": {},
     "output_type": "execute_result"
    }
   ],
   "source": [
    "re_one_hot['bathrooms'].value_counts()"
   ],
   "metadata": {
    "collapsed": false,
    "pycharm": {
     "name": "#%%\n"
    }
   }
  },
  {
   "cell_type": "code",
   "execution_count": 156,
   "outputs": [
    {
     "data": {
      "text/plain": "   Real_Estate_Id  Deeded_Acreage  Total_Sale_Price  Year_of_Sale  Year_Built  \\\n0            19.0            0.21           34500.0        1974.0      1964.0   \n1            20.0            0.46           35500.0        1983.0      1970.0   \n2            22.0            0.46           37500.0        2004.0      1900.0   \n3            25.0            0.96           70000.0        1971.0      1971.0   \n4            30.0            0.47          380000.0        2015.0      1946.0   \n5            31.0            0.39          337500.0        2002.0      1970.0   \n6            33.0            0.50           32500.0        1979.0      1969.0   \n7            34.0            0.70           19500.0        1968.0      1968.0   \n8            35.0            0.49          319000.0        1996.0      1938.0   \n9            37.0            0.13          425000.0        2008.0      1921.0   \n\n   Year_Remodeled  Heated_Area  Physical_Zip total_sale_datetime       Month  \\\n0          1964.0       1828.0       27610.0          1974-01-01    January    \n1          1970.0       1240.0       27610.0          1983-05-18        May    \n2          1900.0       2261.0       27591.0          2004-09-16  September    \n3          1971.0       3770.0       27613.0          1971-01-01    January    \n4          2017.0       1789.0       27607.0          2015-08-12     August    \n5          1970.0       2463.0       27615.0          2002-07-17       July    \n6          1969.0       2389.0       27607.0          1979-02-06   February    \n7          1968.0       1280.0       27606.0          1968-01-01    January    \n8          1938.0       4650.0       27608.0          1996-01-16    January    \n9          1921.0       1890.0       27604.0          2008-04-15      April    \n\n   ...  design_style_5  design_style_6  design_style_7  design_style_8  \\\n0  ...             0.0             0.0             0.0             0.0   \n1  ...             0.0             0.0             0.0             0.0   \n2  ...             0.0             0.0             0.0             0.0   \n3  ...             0.0             0.0             0.0             0.0   \n4  ...             0.0             0.0             0.0             0.0   \n5  ...             0.0             0.0             0.0             0.0   \n6  ...             0.0             0.0             0.0             0.0   \n7  ...             0.0             0.0             0.0             0.0   \n8  ...             0.0             0.0             0.0             0.0   \n9  ...             0.0             0.0             0.0             0.0   \n\n   design_style_9  design_style_10  design_style_11  design_style_12  \\\n0             0.0              0.0              0.0              1.0   \n1             0.0              0.0              0.0              0.0   \n2             0.0              0.0              0.0              0.0   \n3             0.0              0.0              0.0              0.0   \n4             0.0              0.0              0.0              0.0   \n5             0.0              0.0              0.0              0.0   \n6             0.0              1.0              0.0              0.0   \n7             0.0              0.0              0.0              0.0   \n8             0.0              0.0              0.0              0.0   \n9             0.0              0.0              0.0              0.0   \n\n   design_style_13  bathrooms  \n0              0.0        2.0  \n1              0.0        1.0  \n2              0.0        2.0  \n3              0.0        0.0  \n4              0.0        2.0  \n5              0.0        2.0  \n6              0.0        3.0  \n7              0.0        2.0  \n8              0.0        3.5  \n9              0.0        2.0  \n\n[10 rows x 25 columns]",
      "text/html": "<div>\n<style scoped>\n    .dataframe tbody tr th:only-of-type {\n        vertical-align: middle;\n    }\n\n    .dataframe tbody tr th {\n        vertical-align: top;\n    }\n\n    .dataframe thead th {\n        text-align: right;\n    }\n</style>\n<table border=\"1\" class=\"dataframe\">\n  <thead>\n    <tr style=\"text-align: right;\">\n      <th></th>\n      <th>Real_Estate_Id</th>\n      <th>Deeded_Acreage</th>\n      <th>Total_Sale_Price</th>\n      <th>Year_of_Sale</th>\n      <th>Year_Built</th>\n      <th>Year_Remodeled</th>\n      <th>Heated_Area</th>\n      <th>Physical_Zip</th>\n      <th>total_sale_datetime</th>\n      <th>Month</th>\n      <th>...</th>\n      <th>design_style_5</th>\n      <th>design_style_6</th>\n      <th>design_style_7</th>\n      <th>design_style_8</th>\n      <th>design_style_9</th>\n      <th>design_style_10</th>\n      <th>design_style_11</th>\n      <th>design_style_12</th>\n      <th>design_style_13</th>\n      <th>bathrooms</th>\n    </tr>\n  </thead>\n  <tbody>\n    <tr>\n      <th>0</th>\n      <td>19.0</td>\n      <td>0.21</td>\n      <td>34500.0</td>\n      <td>1974.0</td>\n      <td>1964.0</td>\n      <td>1964.0</td>\n      <td>1828.0</td>\n      <td>27610.0</td>\n      <td>1974-01-01</td>\n      <td>January</td>\n      <td>...</td>\n      <td>0.0</td>\n      <td>0.0</td>\n      <td>0.0</td>\n      <td>0.0</td>\n      <td>0.0</td>\n      <td>0.0</td>\n      <td>0.0</td>\n      <td>1.0</td>\n      <td>0.0</td>\n      <td>2.0</td>\n    </tr>\n    <tr>\n      <th>1</th>\n      <td>20.0</td>\n      <td>0.46</td>\n      <td>35500.0</td>\n      <td>1983.0</td>\n      <td>1970.0</td>\n      <td>1970.0</td>\n      <td>1240.0</td>\n      <td>27610.0</td>\n      <td>1983-05-18</td>\n      <td>May</td>\n      <td>...</td>\n      <td>0.0</td>\n      <td>0.0</td>\n      <td>0.0</td>\n      <td>0.0</td>\n      <td>0.0</td>\n      <td>0.0</td>\n      <td>0.0</td>\n      <td>0.0</td>\n      <td>0.0</td>\n      <td>1.0</td>\n    </tr>\n    <tr>\n      <th>2</th>\n      <td>22.0</td>\n      <td>0.46</td>\n      <td>37500.0</td>\n      <td>2004.0</td>\n      <td>1900.0</td>\n      <td>1900.0</td>\n      <td>2261.0</td>\n      <td>27591.0</td>\n      <td>2004-09-16</td>\n      <td>September</td>\n      <td>...</td>\n      <td>0.0</td>\n      <td>0.0</td>\n      <td>0.0</td>\n      <td>0.0</td>\n      <td>0.0</td>\n      <td>0.0</td>\n      <td>0.0</td>\n      <td>0.0</td>\n      <td>0.0</td>\n      <td>2.0</td>\n    </tr>\n    <tr>\n      <th>3</th>\n      <td>25.0</td>\n      <td>0.96</td>\n      <td>70000.0</td>\n      <td>1971.0</td>\n      <td>1971.0</td>\n      <td>1971.0</td>\n      <td>3770.0</td>\n      <td>27613.0</td>\n      <td>1971-01-01</td>\n      <td>January</td>\n      <td>...</td>\n      <td>0.0</td>\n      <td>0.0</td>\n      <td>0.0</td>\n      <td>0.0</td>\n      <td>0.0</td>\n      <td>0.0</td>\n      <td>0.0</td>\n      <td>0.0</td>\n      <td>0.0</td>\n      <td>0.0</td>\n    </tr>\n    <tr>\n      <th>4</th>\n      <td>30.0</td>\n      <td>0.47</td>\n      <td>380000.0</td>\n      <td>2015.0</td>\n      <td>1946.0</td>\n      <td>2017.0</td>\n      <td>1789.0</td>\n      <td>27607.0</td>\n      <td>2015-08-12</td>\n      <td>August</td>\n      <td>...</td>\n      <td>0.0</td>\n      <td>0.0</td>\n      <td>0.0</td>\n      <td>0.0</td>\n      <td>0.0</td>\n      <td>0.0</td>\n      <td>0.0</td>\n      <td>0.0</td>\n      <td>0.0</td>\n      <td>2.0</td>\n    </tr>\n    <tr>\n      <th>5</th>\n      <td>31.0</td>\n      <td>0.39</td>\n      <td>337500.0</td>\n      <td>2002.0</td>\n      <td>1970.0</td>\n      <td>1970.0</td>\n      <td>2463.0</td>\n      <td>27615.0</td>\n      <td>2002-07-17</td>\n      <td>July</td>\n      <td>...</td>\n      <td>0.0</td>\n      <td>0.0</td>\n      <td>0.0</td>\n      <td>0.0</td>\n      <td>0.0</td>\n      <td>0.0</td>\n      <td>0.0</td>\n      <td>0.0</td>\n      <td>0.0</td>\n      <td>2.0</td>\n    </tr>\n    <tr>\n      <th>6</th>\n      <td>33.0</td>\n      <td>0.50</td>\n      <td>32500.0</td>\n      <td>1979.0</td>\n      <td>1969.0</td>\n      <td>1969.0</td>\n      <td>2389.0</td>\n      <td>27607.0</td>\n      <td>1979-02-06</td>\n      <td>February</td>\n      <td>...</td>\n      <td>0.0</td>\n      <td>0.0</td>\n      <td>0.0</td>\n      <td>0.0</td>\n      <td>0.0</td>\n      <td>1.0</td>\n      <td>0.0</td>\n      <td>0.0</td>\n      <td>0.0</td>\n      <td>3.0</td>\n    </tr>\n    <tr>\n      <th>7</th>\n      <td>34.0</td>\n      <td>0.70</td>\n      <td>19500.0</td>\n      <td>1968.0</td>\n      <td>1968.0</td>\n      <td>1968.0</td>\n      <td>1280.0</td>\n      <td>27606.0</td>\n      <td>1968-01-01</td>\n      <td>January</td>\n      <td>...</td>\n      <td>0.0</td>\n      <td>0.0</td>\n      <td>0.0</td>\n      <td>0.0</td>\n      <td>0.0</td>\n      <td>0.0</td>\n      <td>0.0</td>\n      <td>0.0</td>\n      <td>0.0</td>\n      <td>2.0</td>\n    </tr>\n    <tr>\n      <th>8</th>\n      <td>35.0</td>\n      <td>0.49</td>\n      <td>319000.0</td>\n      <td>1996.0</td>\n      <td>1938.0</td>\n      <td>1938.0</td>\n      <td>4650.0</td>\n      <td>27608.0</td>\n      <td>1996-01-16</td>\n      <td>January</td>\n      <td>...</td>\n      <td>0.0</td>\n      <td>0.0</td>\n      <td>0.0</td>\n      <td>0.0</td>\n      <td>0.0</td>\n      <td>0.0</td>\n      <td>0.0</td>\n      <td>0.0</td>\n      <td>0.0</td>\n      <td>3.5</td>\n    </tr>\n    <tr>\n      <th>9</th>\n      <td>37.0</td>\n      <td>0.13</td>\n      <td>425000.0</td>\n      <td>2008.0</td>\n      <td>1921.0</td>\n      <td>1921.0</td>\n      <td>1890.0</td>\n      <td>27604.0</td>\n      <td>2008-04-15</td>\n      <td>April</td>\n      <td>...</td>\n      <td>0.0</td>\n      <td>0.0</td>\n      <td>0.0</td>\n      <td>0.0</td>\n      <td>0.0</td>\n      <td>0.0</td>\n      <td>0.0</td>\n      <td>0.0</td>\n      <td>0.0</td>\n      <td>2.0</td>\n    </tr>\n  </tbody>\n</table>\n<p>10 rows × 25 columns</p>\n</div>"
     },
     "execution_count": 156,
     "metadata": {},
     "output_type": "execute_result"
    }
   ],
   "source": [
    "re_one_hot= re_one_hot.drop(['Bath'], axis=1)\n",
    "re_one_hot.head(10)"
   ],
   "metadata": {
    "collapsed": false,
    "pycharm": {
     "name": "#%%\n"
    }
   }
  },
  {
   "cell_type": "markdown",
   "source": [
    "### Standardizing the data"
   ],
   "metadata": {
    "collapsed": false
   }
  },
  {
   "cell_type": "code",
   "execution_count": 157,
   "outputs": [
    {
     "data": {
      "text/plain": "   Real_Estate_Id  Deeded_Acreage  Total_Sale_Price  Year_of_Sale  Year_Built  \\\n0       -1.880023       -0.126084         -1.258313     -3.377447   -1.571319   \n1       -1.880016        0.008675         -1.253043     -2.522725   -1.266570   \n2       -1.880000        0.008675         -1.242502     -0.528371   -4.821977   \n3       -1.879977        0.278193         -1.071215     -3.662355   -1.215778   \n4       -1.879938        0.014065          0.562603      0.516290   -2.485566   \n5       -1.879931       -0.029058          0.338612     -0.718310   -1.266570   \n6       -1.879915        0.030236         -1.268854     -2.902601   -1.317361   \n7       -1.879908        0.138044         -1.337369     -3.947263   -1.368153   \n8       -1.879900        0.024846          0.241110     -1.288125   -2.891899   \n9       -1.879885       -0.169207          0.799770     -0.148494   -3.755355   \n\n   Year_Remodeled  Heated_Area  Physical_Zip  design_style_0  design_style_1  \\\n0       -1.642016    -0.441198      0.902459       -0.005112       -0.009899   \n1       -1.331777    -1.031524      0.902459       -0.005112       -0.009899   \n2       -4.951227    -0.006485      0.448146       -0.005112       -0.009899   \n3       -1.280071     1.508484      0.974193       -0.005112       -0.009899   \n4        1.098425    -0.480352      0.830726       -0.005112       -0.009899   \n5       -1.331777     0.196314      1.022015       -0.005112       -0.009899   \n6       -1.383483     0.122021      0.830726       -0.005112       -0.009899   \n7       -1.435190    -0.991366      0.806814       -0.005112       -0.009899   \n8       -2.986383     2.391965      0.854637       -0.005112       -0.009899   \n9       -3.865392    -0.378953      0.758992       -0.005112       -0.009899   \n\n   ...  design_style_5  design_style_6  design_style_7  design_style_8  \\\n0  ...       -0.004427       -0.003615       -0.016066        -0.00313   \n1  ...       -0.004427       -0.003615       -0.016066        -0.00313   \n2  ...       -0.004427       -0.003615       -0.016066        -0.00313   \n3  ...       -0.004427       -0.003615       -0.016066        -0.00313   \n4  ...       -0.004427       -0.003615       -0.016066        -0.00313   \n5  ...       -0.004427       -0.003615       -0.016066        -0.00313   \n6  ...       -0.004427       -0.003615       -0.016066        -0.00313   \n7  ...       -0.004427       -0.003615       -0.016066        -0.00313   \n8  ...       -0.004427       -0.003615       -0.016066        -0.00313   \n9  ...       -0.004427       -0.003615       -0.016066        -0.00313   \n\n   design_style_9  design_style_10  design_style_11  design_style_12  \\\n0       -0.025439        -0.157904        -0.084135         6.492431   \n1       -0.025439        -0.157904        -0.084135        -0.154026   \n2       -0.025439        -0.157904        -0.084135        -0.154026   \n3       -0.025439        -0.157904        -0.084135        -0.154026   \n4       -0.025439        -0.157904        -0.084135        -0.154026   \n5       -0.025439        -0.157904        -0.084135        -0.154026   \n6       -0.025439         6.332967        -0.084135        -0.154026   \n7       -0.025439        -0.157904        -0.084135        -0.154026   \n8       -0.025439        -0.157904        -0.084135        -0.154026   \n9       -0.025439        -0.157904        -0.084135        -0.154026   \n\n   design_style_13  bathrooms  \n0        -0.422357  -0.559034  \n1        -0.422357  -1.798990  \n2        -0.422357  -0.559034  \n3        -0.422357  -3.038946  \n4        -0.422357  -0.559034  \n5        -0.422357  -0.559034  \n6        -0.422357   0.680922  \n7        -0.422357  -0.559034  \n8        -0.422357   1.300900  \n9        -0.422357  -0.559034  \n\n[10 rows x 23 columns]",
      "text/html": "<div>\n<style scoped>\n    .dataframe tbody tr th:only-of-type {\n        vertical-align: middle;\n    }\n\n    .dataframe tbody tr th {\n        vertical-align: top;\n    }\n\n    .dataframe thead th {\n        text-align: right;\n    }\n</style>\n<table border=\"1\" class=\"dataframe\">\n  <thead>\n    <tr style=\"text-align: right;\">\n      <th></th>\n      <th>Real_Estate_Id</th>\n      <th>Deeded_Acreage</th>\n      <th>Total_Sale_Price</th>\n      <th>Year_of_Sale</th>\n      <th>Year_Built</th>\n      <th>Year_Remodeled</th>\n      <th>Heated_Area</th>\n      <th>Physical_Zip</th>\n      <th>design_style_0</th>\n      <th>design_style_1</th>\n      <th>...</th>\n      <th>design_style_5</th>\n      <th>design_style_6</th>\n      <th>design_style_7</th>\n      <th>design_style_8</th>\n      <th>design_style_9</th>\n      <th>design_style_10</th>\n      <th>design_style_11</th>\n      <th>design_style_12</th>\n      <th>design_style_13</th>\n      <th>bathrooms</th>\n    </tr>\n  </thead>\n  <tbody>\n    <tr>\n      <th>0</th>\n      <td>-1.880023</td>\n      <td>-0.126084</td>\n      <td>-1.258313</td>\n      <td>-3.377447</td>\n      <td>-1.571319</td>\n      <td>-1.642016</td>\n      <td>-0.441198</td>\n      <td>0.902459</td>\n      <td>-0.005112</td>\n      <td>-0.009899</td>\n      <td>...</td>\n      <td>-0.004427</td>\n      <td>-0.003615</td>\n      <td>-0.016066</td>\n      <td>-0.00313</td>\n      <td>-0.025439</td>\n      <td>-0.157904</td>\n      <td>-0.084135</td>\n      <td>6.492431</td>\n      <td>-0.422357</td>\n      <td>-0.559034</td>\n    </tr>\n    <tr>\n      <th>1</th>\n      <td>-1.880016</td>\n      <td>0.008675</td>\n      <td>-1.253043</td>\n      <td>-2.522725</td>\n      <td>-1.266570</td>\n      <td>-1.331777</td>\n      <td>-1.031524</td>\n      <td>0.902459</td>\n      <td>-0.005112</td>\n      <td>-0.009899</td>\n      <td>...</td>\n      <td>-0.004427</td>\n      <td>-0.003615</td>\n      <td>-0.016066</td>\n      <td>-0.00313</td>\n      <td>-0.025439</td>\n      <td>-0.157904</td>\n      <td>-0.084135</td>\n      <td>-0.154026</td>\n      <td>-0.422357</td>\n      <td>-1.798990</td>\n    </tr>\n    <tr>\n      <th>2</th>\n      <td>-1.880000</td>\n      <td>0.008675</td>\n      <td>-1.242502</td>\n      <td>-0.528371</td>\n      <td>-4.821977</td>\n      <td>-4.951227</td>\n      <td>-0.006485</td>\n      <td>0.448146</td>\n      <td>-0.005112</td>\n      <td>-0.009899</td>\n      <td>...</td>\n      <td>-0.004427</td>\n      <td>-0.003615</td>\n      <td>-0.016066</td>\n      <td>-0.00313</td>\n      <td>-0.025439</td>\n      <td>-0.157904</td>\n      <td>-0.084135</td>\n      <td>-0.154026</td>\n      <td>-0.422357</td>\n      <td>-0.559034</td>\n    </tr>\n    <tr>\n      <th>3</th>\n      <td>-1.879977</td>\n      <td>0.278193</td>\n      <td>-1.071215</td>\n      <td>-3.662355</td>\n      <td>-1.215778</td>\n      <td>-1.280071</td>\n      <td>1.508484</td>\n      <td>0.974193</td>\n      <td>-0.005112</td>\n      <td>-0.009899</td>\n      <td>...</td>\n      <td>-0.004427</td>\n      <td>-0.003615</td>\n      <td>-0.016066</td>\n      <td>-0.00313</td>\n      <td>-0.025439</td>\n      <td>-0.157904</td>\n      <td>-0.084135</td>\n      <td>-0.154026</td>\n      <td>-0.422357</td>\n      <td>-3.038946</td>\n    </tr>\n    <tr>\n      <th>4</th>\n      <td>-1.879938</td>\n      <td>0.014065</td>\n      <td>0.562603</td>\n      <td>0.516290</td>\n      <td>-2.485566</td>\n      <td>1.098425</td>\n      <td>-0.480352</td>\n      <td>0.830726</td>\n      <td>-0.005112</td>\n      <td>-0.009899</td>\n      <td>...</td>\n      <td>-0.004427</td>\n      <td>-0.003615</td>\n      <td>-0.016066</td>\n      <td>-0.00313</td>\n      <td>-0.025439</td>\n      <td>-0.157904</td>\n      <td>-0.084135</td>\n      <td>-0.154026</td>\n      <td>-0.422357</td>\n      <td>-0.559034</td>\n    </tr>\n    <tr>\n      <th>5</th>\n      <td>-1.879931</td>\n      <td>-0.029058</td>\n      <td>0.338612</td>\n      <td>-0.718310</td>\n      <td>-1.266570</td>\n      <td>-1.331777</td>\n      <td>0.196314</td>\n      <td>1.022015</td>\n      <td>-0.005112</td>\n      <td>-0.009899</td>\n      <td>...</td>\n      <td>-0.004427</td>\n      <td>-0.003615</td>\n      <td>-0.016066</td>\n      <td>-0.00313</td>\n      <td>-0.025439</td>\n      <td>-0.157904</td>\n      <td>-0.084135</td>\n      <td>-0.154026</td>\n      <td>-0.422357</td>\n      <td>-0.559034</td>\n    </tr>\n    <tr>\n      <th>6</th>\n      <td>-1.879915</td>\n      <td>0.030236</td>\n      <td>-1.268854</td>\n      <td>-2.902601</td>\n      <td>-1.317361</td>\n      <td>-1.383483</td>\n      <td>0.122021</td>\n      <td>0.830726</td>\n      <td>-0.005112</td>\n      <td>-0.009899</td>\n      <td>...</td>\n      <td>-0.004427</td>\n      <td>-0.003615</td>\n      <td>-0.016066</td>\n      <td>-0.00313</td>\n      <td>-0.025439</td>\n      <td>6.332967</td>\n      <td>-0.084135</td>\n      <td>-0.154026</td>\n      <td>-0.422357</td>\n      <td>0.680922</td>\n    </tr>\n    <tr>\n      <th>7</th>\n      <td>-1.879908</td>\n      <td>0.138044</td>\n      <td>-1.337369</td>\n      <td>-3.947263</td>\n      <td>-1.368153</td>\n      <td>-1.435190</td>\n      <td>-0.991366</td>\n      <td>0.806814</td>\n      <td>-0.005112</td>\n      <td>-0.009899</td>\n      <td>...</td>\n      <td>-0.004427</td>\n      <td>-0.003615</td>\n      <td>-0.016066</td>\n      <td>-0.00313</td>\n      <td>-0.025439</td>\n      <td>-0.157904</td>\n      <td>-0.084135</td>\n      <td>-0.154026</td>\n      <td>-0.422357</td>\n      <td>-0.559034</td>\n    </tr>\n    <tr>\n      <th>8</th>\n      <td>-1.879900</td>\n      <td>0.024846</td>\n      <td>0.241110</td>\n      <td>-1.288125</td>\n      <td>-2.891899</td>\n      <td>-2.986383</td>\n      <td>2.391965</td>\n      <td>0.854637</td>\n      <td>-0.005112</td>\n      <td>-0.009899</td>\n      <td>...</td>\n      <td>-0.004427</td>\n      <td>-0.003615</td>\n      <td>-0.016066</td>\n      <td>-0.00313</td>\n      <td>-0.025439</td>\n      <td>-0.157904</td>\n      <td>-0.084135</td>\n      <td>-0.154026</td>\n      <td>-0.422357</td>\n      <td>1.300900</td>\n    </tr>\n    <tr>\n      <th>9</th>\n      <td>-1.879885</td>\n      <td>-0.169207</td>\n      <td>0.799770</td>\n      <td>-0.148494</td>\n      <td>-3.755355</td>\n      <td>-3.865392</td>\n      <td>-0.378953</td>\n      <td>0.758992</td>\n      <td>-0.005112</td>\n      <td>-0.009899</td>\n      <td>...</td>\n      <td>-0.004427</td>\n      <td>-0.003615</td>\n      <td>-0.016066</td>\n      <td>-0.00313</td>\n      <td>-0.025439</td>\n      <td>-0.157904</td>\n      <td>-0.084135</td>\n      <td>-0.154026</td>\n      <td>-0.422357</td>\n      <td>-0.559034</td>\n    </tr>\n  </tbody>\n</table>\n<p>10 rows × 23 columns</p>\n</div>"
     },
     "execution_count": 157,
     "metadata": {},
     "output_type": "execute_result"
    }
   ],
   "source": [
    "from sklearn.preprocessing import StandardScaler\n",
    "\n",
    "standard_scaler = StandardScaler()\n",
    "re_numerics = re_one_hot.select_dtypes(include=['float64', 'int64']).copy()\n",
    "re_numerics_scaled = pd.DataFrame(standard_scaler.fit_transform(re_numerics), columns=re_numerics.columns)\n",
    "re_numerics_scaled.head(10)"
   ],
   "metadata": {
    "collapsed": false,
    "pycharm": {
     "name": "#%%\n"
    }
   }
  },
  {
   "cell_type": "markdown",
   "source": [
    "## Custom Transformer to turn Acreage into square feet"
   ],
   "metadata": {
    "collapsed": false
   }
  },
  {
   "cell_type": "code",
   "execution_count": 144,
   "outputs": [],
   "source": [
    "def acreage_to_sqft(acreage):\n",
    "    return acreage * 43560\n",
    "\n",
    "sqft_list = []\n",
    "for index, row in real_estate.iterrows():\n",
    "    acreage = row['Deeded_Acreage']\n",
    "    sqft = acreage_to_sqft(acreage)\n",
    "    sqft_list.append(sqft)\n",
    "\n",
    "real_estate['square_feet'] = sqft_list"
   ],
   "metadata": {
    "collapsed": false,
    "pycharm": {
     "name": "#%%\n"
    }
   }
  },
  {
   "cell_type": "code",
   "execution_count": 145,
   "outputs": [
    {
     "data": {
      "text/plain": "   Real_Estate_Id  Deeded_Acreage  Total_Sale_Price  Year_of_Sale  Year_Built  \\\n0              19            0.21             34500          1974        1964   \n1              20            0.46             35500          1983        1970   \n2              22            0.46             37500          2004        1900   \n3              25            0.96             70000          1971        1971   \n4              30            0.47            380000          2015        1946   \n5              31            0.39            337500          2002        1970   \n6              33            0.50             32500          1979        1969   \n7              34            0.70             19500          1968        1968   \n8              35            0.49            319000          1996        1938   \n9              37            0.13            425000          2008        1921   \n\n   Year_Remodeled  Heated_Area  Design_Style     Bath  Physical_Zip  \\\n0            1964         1828   Split level   2 Bath       27610.0   \n1            1970         1240  Conventional   1 Bath       27610.0   \n2            1900         2261  Conventional   2 Bath       27591.0   \n3            1971         3770  Conventional    Other       27613.0   \n4            2017         1789  Conventional   2 Bath       27607.0   \n5            1970         2463  Conventional   2 Bath       27615.0   \n6            1969         2389         Ranch   3 Bath       27607.0   \n7            1968         1280  Conventional   2 Bath       27606.0   \n8            1938         4650  Conventional  3½ Bath       27608.0   \n9            1921         1890  Conventional   2 Bath       27604.0   \n\n  total_sale_datetime       Month  square_feet  \n0          1974-01-01    January        9147.6  \n1          1983-05-18        May       20037.6  \n2          2004-09-16  September       20037.6  \n3          1971-01-01    January       41817.6  \n4          2015-08-12     August       20473.2  \n5          2002-07-17       July       16988.4  \n6          1979-02-06   February       21780.0  \n7          1968-01-01    January       30492.0  \n8          1996-01-16    January       21344.4  \n9          2008-04-15      April        5662.8  ",
      "text/html": "<div>\n<style scoped>\n    .dataframe tbody tr th:only-of-type {\n        vertical-align: middle;\n    }\n\n    .dataframe tbody tr th {\n        vertical-align: top;\n    }\n\n    .dataframe thead th {\n        text-align: right;\n    }\n</style>\n<table border=\"1\" class=\"dataframe\">\n  <thead>\n    <tr style=\"text-align: right;\">\n      <th></th>\n      <th>Real_Estate_Id</th>\n      <th>Deeded_Acreage</th>\n      <th>Total_Sale_Price</th>\n      <th>Year_of_Sale</th>\n      <th>Year_Built</th>\n      <th>Year_Remodeled</th>\n      <th>Heated_Area</th>\n      <th>Design_Style</th>\n      <th>Bath</th>\n      <th>Physical_Zip</th>\n      <th>total_sale_datetime</th>\n      <th>Month</th>\n      <th>square_feet</th>\n    </tr>\n  </thead>\n  <tbody>\n    <tr>\n      <th>0</th>\n      <td>19</td>\n      <td>0.21</td>\n      <td>34500</td>\n      <td>1974</td>\n      <td>1964</td>\n      <td>1964</td>\n      <td>1828</td>\n      <td>Split level</td>\n      <td>2 Bath</td>\n      <td>27610.0</td>\n      <td>1974-01-01</td>\n      <td>January</td>\n      <td>9147.6</td>\n    </tr>\n    <tr>\n      <th>1</th>\n      <td>20</td>\n      <td>0.46</td>\n      <td>35500</td>\n      <td>1983</td>\n      <td>1970</td>\n      <td>1970</td>\n      <td>1240</td>\n      <td>Conventional</td>\n      <td>1 Bath</td>\n      <td>27610.0</td>\n      <td>1983-05-18</td>\n      <td>May</td>\n      <td>20037.6</td>\n    </tr>\n    <tr>\n      <th>2</th>\n      <td>22</td>\n      <td>0.46</td>\n      <td>37500</td>\n      <td>2004</td>\n      <td>1900</td>\n      <td>1900</td>\n      <td>2261</td>\n      <td>Conventional</td>\n      <td>2 Bath</td>\n      <td>27591.0</td>\n      <td>2004-09-16</td>\n      <td>September</td>\n      <td>20037.6</td>\n    </tr>\n    <tr>\n      <th>3</th>\n      <td>25</td>\n      <td>0.96</td>\n      <td>70000</td>\n      <td>1971</td>\n      <td>1971</td>\n      <td>1971</td>\n      <td>3770</td>\n      <td>Conventional</td>\n      <td>Other</td>\n      <td>27613.0</td>\n      <td>1971-01-01</td>\n      <td>January</td>\n      <td>41817.6</td>\n    </tr>\n    <tr>\n      <th>4</th>\n      <td>30</td>\n      <td>0.47</td>\n      <td>380000</td>\n      <td>2015</td>\n      <td>1946</td>\n      <td>2017</td>\n      <td>1789</td>\n      <td>Conventional</td>\n      <td>2 Bath</td>\n      <td>27607.0</td>\n      <td>2015-08-12</td>\n      <td>August</td>\n      <td>20473.2</td>\n    </tr>\n    <tr>\n      <th>5</th>\n      <td>31</td>\n      <td>0.39</td>\n      <td>337500</td>\n      <td>2002</td>\n      <td>1970</td>\n      <td>1970</td>\n      <td>2463</td>\n      <td>Conventional</td>\n      <td>2 Bath</td>\n      <td>27615.0</td>\n      <td>2002-07-17</td>\n      <td>July</td>\n      <td>16988.4</td>\n    </tr>\n    <tr>\n      <th>6</th>\n      <td>33</td>\n      <td>0.50</td>\n      <td>32500</td>\n      <td>1979</td>\n      <td>1969</td>\n      <td>1969</td>\n      <td>2389</td>\n      <td>Ranch</td>\n      <td>3 Bath</td>\n      <td>27607.0</td>\n      <td>1979-02-06</td>\n      <td>February</td>\n      <td>21780.0</td>\n    </tr>\n    <tr>\n      <th>7</th>\n      <td>34</td>\n      <td>0.70</td>\n      <td>19500</td>\n      <td>1968</td>\n      <td>1968</td>\n      <td>1968</td>\n      <td>1280</td>\n      <td>Conventional</td>\n      <td>2 Bath</td>\n      <td>27606.0</td>\n      <td>1968-01-01</td>\n      <td>January</td>\n      <td>30492.0</td>\n    </tr>\n    <tr>\n      <th>8</th>\n      <td>35</td>\n      <td>0.49</td>\n      <td>319000</td>\n      <td>1996</td>\n      <td>1938</td>\n      <td>1938</td>\n      <td>4650</td>\n      <td>Conventional</td>\n      <td>3½ Bath</td>\n      <td>27608.0</td>\n      <td>1996-01-16</td>\n      <td>January</td>\n      <td>21344.4</td>\n    </tr>\n    <tr>\n      <th>9</th>\n      <td>37</td>\n      <td>0.13</td>\n      <td>425000</td>\n      <td>2008</td>\n      <td>1921</td>\n      <td>1921</td>\n      <td>1890</td>\n      <td>Conventional</td>\n      <td>2 Bath</td>\n      <td>27604.0</td>\n      <td>2008-04-15</td>\n      <td>April</td>\n      <td>5662.8</td>\n    </tr>\n  </tbody>\n</table>\n</div>"
     },
     "execution_count": 145,
     "metadata": {},
     "output_type": "execute_result"
    }
   ],
   "source": [
    "real_estate.head(10)"
   ],
   "metadata": {
    "collapsed": false,
    "pycharm": {
     "name": "#%%\n"
    }
   }
  },
  {
   "cell_type": "code",
   "execution_count": 146,
   "outputs": [],
   "source": [
    "X, Y = real_estate['Total_Sale_Price'], real_estate['square_feet']"
   ],
   "metadata": {
    "collapsed": false,
    "pycharm": {
     "name": "#%%\n"
    }
   }
  }
 ],
 "metadata": {
  "kernelspec": {
   "display_name": "Python 3",
   "language": "python",
   "name": "python3"
  },
  "language_info": {
   "codemirror_mode": {
    "name": "ipython",
    "version": 2
   },
   "file_extension": ".py",
   "mimetype": "text/x-python",
   "name": "python",
   "nbconvert_exporter": "python",
   "pygments_lexer": "ipython2",
   "version": "2.7.6"
  }
 },
 "nbformat": 4,
 "nbformat_minor": 0
}