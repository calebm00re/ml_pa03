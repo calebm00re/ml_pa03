{
 "cells": [
  {
   "cell_type": "code",
   "execution_count": 1,
   "metadata": {
    "collapsed": true
   },
   "outputs": [],
   "source": [
    "import pandas as pd"
   ]
  },
  {
   "cell_type": "code",
   "execution_count": 2,
   "outputs": [
    {
     "data": {
      "text/plain": "   Unnamed: 0                            key  fare_amount  \\\n0    24238194    2015-05-07 19:52:06.0000003          7.5   \n1    27835199    2009-07-17 20:04:56.0000002          7.7   \n2    44984355   2009-08-24 21:45:00.00000061         12.9   \n3    25894730    2009-06-26 08:22:21.0000001          5.3   \n4    17610152  2014-08-28 17:47:00.000000188         16.0   \n\n           pickup_datetime  pickup_longitude  pickup_latitude  \\\n0  2015-05-07 19:52:06 UTC        -73.999817        40.738354   \n1  2009-07-17 20:04:56 UTC        -73.994355        40.728225   \n2  2009-08-24 21:45:00 UTC        -74.005043        40.740770   \n3  2009-06-26 08:22:21 UTC        -73.976124        40.790844   \n4  2014-08-28 17:47:00 UTC        -73.925023        40.744085   \n\n   dropoff_longitude  dropoff_latitude  passenger_count  \n0         -73.999512         40.723217                1  \n1         -73.994710         40.750325                1  \n2         -73.962565         40.772647                1  \n3         -73.965316         40.803349                3  \n4         -73.973082         40.761247                5  ",
      "text/html": "<div>\n<style scoped>\n    .dataframe tbody tr th:only-of-type {\n        vertical-align: middle;\n    }\n\n    .dataframe tbody tr th {\n        vertical-align: top;\n    }\n\n    .dataframe thead th {\n        text-align: right;\n    }\n</style>\n<table border=\"1\" class=\"dataframe\">\n  <thead>\n    <tr style=\"text-align: right;\">\n      <th></th>\n      <th>Unnamed: 0</th>\n      <th>key</th>\n      <th>fare_amount</th>\n      <th>pickup_datetime</th>\n      <th>pickup_longitude</th>\n      <th>pickup_latitude</th>\n      <th>dropoff_longitude</th>\n      <th>dropoff_latitude</th>\n      <th>passenger_count</th>\n    </tr>\n  </thead>\n  <tbody>\n    <tr>\n      <th>0</th>\n      <td>24238194</td>\n      <td>2015-05-07 19:52:06.0000003</td>\n      <td>7.5</td>\n      <td>2015-05-07 19:52:06 UTC</td>\n      <td>-73.999817</td>\n      <td>40.738354</td>\n      <td>-73.999512</td>\n      <td>40.723217</td>\n      <td>1</td>\n    </tr>\n    <tr>\n      <th>1</th>\n      <td>27835199</td>\n      <td>2009-07-17 20:04:56.0000002</td>\n      <td>7.7</td>\n      <td>2009-07-17 20:04:56 UTC</td>\n      <td>-73.994355</td>\n      <td>40.728225</td>\n      <td>-73.994710</td>\n      <td>40.750325</td>\n      <td>1</td>\n    </tr>\n    <tr>\n      <th>2</th>\n      <td>44984355</td>\n      <td>2009-08-24 21:45:00.00000061</td>\n      <td>12.9</td>\n      <td>2009-08-24 21:45:00 UTC</td>\n      <td>-74.005043</td>\n      <td>40.740770</td>\n      <td>-73.962565</td>\n      <td>40.772647</td>\n      <td>1</td>\n    </tr>\n    <tr>\n      <th>3</th>\n      <td>25894730</td>\n      <td>2009-06-26 08:22:21.0000001</td>\n      <td>5.3</td>\n      <td>2009-06-26 08:22:21 UTC</td>\n      <td>-73.976124</td>\n      <td>40.790844</td>\n      <td>-73.965316</td>\n      <td>40.803349</td>\n      <td>3</td>\n    </tr>\n    <tr>\n      <th>4</th>\n      <td>17610152</td>\n      <td>2014-08-28 17:47:00.000000188</td>\n      <td>16.0</td>\n      <td>2014-08-28 17:47:00 UTC</td>\n      <td>-73.925023</td>\n      <td>40.744085</td>\n      <td>-73.973082</td>\n      <td>40.761247</td>\n      <td>5</td>\n    </tr>\n  </tbody>\n</table>\n</div>"
     },
     "execution_count": 2,
     "metadata": {},
     "output_type": "execute_result"
    }
   ],
   "source": [
    "uber = pd.read_csv(\"datasets/uber.csv\")\n",
    "uber.head()"
   ],
   "metadata": {
    "collapsed": false,
    "pycharm": {
     "name": "#%%\n"
    }
   }
  },
  {
   "cell_type": "code",
   "execution_count": 3,
   "outputs": [
    {
     "data": {
      "text/plain": "(200000, 9)"
     },
     "execution_count": 3,
     "metadata": {},
     "output_type": "execute_result"
    }
   ],
   "source": [
    "uber.shape"
   ],
   "metadata": {
    "collapsed": false,
    "pycharm": {
     "name": "#%%\n"
    }
   }
  },
  {
   "cell_type": "code",
   "execution_count": 4,
   "outputs": [
    {
     "name": "stdout",
     "output_type": "stream",
     "text": [
      "<class 'pandas.core.frame.DataFrame'>\n",
      "RangeIndex: 200000 entries, 0 to 199999\n",
      "Data columns (total 9 columns):\n",
      " #   Column             Non-Null Count   Dtype  \n",
      "---  ------             --------------   -----  \n",
      " 0   Unnamed: 0         200000 non-null  int64  \n",
      " 1   key                200000 non-null  object \n",
      " 2   fare_amount        200000 non-null  float64\n",
      " 3   pickup_datetime    200000 non-null  object \n",
      " 4   pickup_longitude   200000 non-null  float64\n",
      " 5   pickup_latitude    200000 non-null  float64\n",
      " 6   dropoff_longitude  199999 non-null  float64\n",
      " 7   dropoff_latitude   199999 non-null  float64\n",
      " 8   passenger_count    200000 non-null  int64  \n",
      "dtypes: float64(5), int64(2), object(2)\n",
      "memory usage: 13.7+ MB\n"
     ]
    }
   ],
   "source": [
    "uber.info()"
   ],
   "metadata": {
    "collapsed": false,
    "pycharm": {
     "name": "#%%\n"
    }
   }
  },
  {
   "cell_type": "code",
   "execution_count": 5,
   "outputs": [
    {
     "data": {
      "text/plain": "                             key  fare_amount          pickup_datetime  \\\n0    2015-05-07 19:52:06.0000003          7.5  2015-05-07 19:52:06 UTC   \n1    2009-07-17 20:04:56.0000002          7.7  2009-07-17 20:04:56 UTC   \n2   2009-08-24 21:45:00.00000061         12.9  2009-08-24 21:45:00 UTC   \n3    2009-06-26 08:22:21.0000001          5.3  2009-06-26 08:22:21 UTC   \n4  2014-08-28 17:47:00.000000188         16.0  2014-08-28 17:47:00 UTC   \n\n   pickup_longitude  pickup_latitude  dropoff_longitude  dropoff_latitude  \\\n0        -73.999817        40.738354         -73.999512         40.723217   \n1        -73.994355        40.728225         -73.994710         40.750325   \n2        -74.005043        40.740770         -73.962565         40.772647   \n3        -73.976124        40.790844         -73.965316         40.803349   \n4        -73.925023        40.744085         -73.973082         40.761247   \n\n   passenger_count  \n0                1  \n1                1  \n2                1  \n3                3  \n4                5  ",
      "text/html": "<div>\n<style scoped>\n    .dataframe tbody tr th:only-of-type {\n        vertical-align: middle;\n    }\n\n    .dataframe tbody tr th {\n        vertical-align: top;\n    }\n\n    .dataframe thead th {\n        text-align: right;\n    }\n</style>\n<table border=\"1\" class=\"dataframe\">\n  <thead>\n    <tr style=\"text-align: right;\">\n      <th></th>\n      <th>key</th>\n      <th>fare_amount</th>\n      <th>pickup_datetime</th>\n      <th>pickup_longitude</th>\n      <th>pickup_latitude</th>\n      <th>dropoff_longitude</th>\n      <th>dropoff_latitude</th>\n      <th>passenger_count</th>\n    </tr>\n  </thead>\n  <tbody>\n    <tr>\n      <th>0</th>\n      <td>2015-05-07 19:52:06.0000003</td>\n      <td>7.5</td>\n      <td>2015-05-07 19:52:06 UTC</td>\n      <td>-73.999817</td>\n      <td>40.738354</td>\n      <td>-73.999512</td>\n      <td>40.723217</td>\n      <td>1</td>\n    </tr>\n    <tr>\n      <th>1</th>\n      <td>2009-07-17 20:04:56.0000002</td>\n      <td>7.7</td>\n      <td>2009-07-17 20:04:56 UTC</td>\n      <td>-73.994355</td>\n      <td>40.728225</td>\n      <td>-73.994710</td>\n      <td>40.750325</td>\n      <td>1</td>\n    </tr>\n    <tr>\n      <th>2</th>\n      <td>2009-08-24 21:45:00.00000061</td>\n      <td>12.9</td>\n      <td>2009-08-24 21:45:00 UTC</td>\n      <td>-74.005043</td>\n      <td>40.740770</td>\n      <td>-73.962565</td>\n      <td>40.772647</td>\n      <td>1</td>\n    </tr>\n    <tr>\n      <th>3</th>\n      <td>2009-06-26 08:22:21.0000001</td>\n      <td>5.3</td>\n      <td>2009-06-26 08:22:21 UTC</td>\n      <td>-73.976124</td>\n      <td>40.790844</td>\n      <td>-73.965316</td>\n      <td>40.803349</td>\n      <td>3</td>\n    </tr>\n    <tr>\n      <th>4</th>\n      <td>2014-08-28 17:47:00.000000188</td>\n      <td>16.0</td>\n      <td>2014-08-28 17:47:00 UTC</td>\n      <td>-73.925023</td>\n      <td>40.744085</td>\n      <td>-73.973082</td>\n      <td>40.761247</td>\n      <td>5</td>\n    </tr>\n  </tbody>\n</table>\n</div>"
     },
     "execution_count": 5,
     "metadata": {},
     "output_type": "execute_result"
    }
   ],
   "source": [
    "uber=uber.drop(\"Unnamed: 0\", axis=1)\n",
    "uber.head()"
   ],
   "metadata": {
    "collapsed": false,
    "pycharm": {
     "name": "#%%\n"
    }
   }
  },
  {
   "cell_type": "code",
   "execution_count": 6,
   "outputs": [
    {
     "name": "stdout",
     "output_type": "stream",
     "text": [
      "<class 'pandas.core.frame.DataFrame'>\n",
      "RangeIndex: 200000 entries, 0 to 199999\n",
      "Data columns (total 8 columns):\n",
      " #   Column             Non-Null Count   Dtype  \n",
      "---  ------             --------------   -----  \n",
      " 0   key                200000 non-null  object \n",
      " 1   fare_amount        200000 non-null  float64\n",
      " 2   pickup_datetime    200000 non-null  object \n",
      " 3   pickup_longitude   200000 non-null  float64\n",
      " 4   pickup_latitude    200000 non-null  float64\n",
      " 5   dropoff_longitude  199999 non-null  float64\n",
      " 6   dropoff_latitude   199999 non-null  float64\n",
      " 7   passenger_count    200000 non-null  int64  \n",
      "dtypes: float64(5), int64(1), object(2)\n",
      "memory usage: 12.2+ MB\n"
     ]
    }
   ],
   "source": [
    "uber['dropoff_longitude'].dropna()\n",
    "uber['dropoff_latitude'].dropna()\n",
    "uber.info()"
   ],
   "metadata": {
    "collapsed": false,
    "pycharm": {
     "name": "#%%\n"
    }
   }
  },
  {
   "cell_type": "code",
   "execution_count": 34,
   "outputs": [
    {
     "name": "stdout",
     "output_type": "stream",
     "text": [
      "40.808425, -89.93333299999999\n",
      "48.01876, -74.01551500000001\n",
      "40.831932, -75.458978633981\n",
      "45.031598, -74.01575\n"
     ]
    }
   ],
   "source": [
    "'''\n",
    "We need to clean our latitude and longitude values\n",
    " This is because there are legitimate bounds to lat and long\n",
    " the limits are as such : latitude[-90,90], latitude[-180,180]\n",
    "However, there is a bug with the input of coords so we could\n",
    " only make it work with -90 to 90 for both\n",
    "'''\n",
    "\n",
    "uber_filtered = uber[uber['pickup_longitude'] < 90]\n",
    "uber_filtered = uber_filtered[uber_filtered['pickup_longitude'] > -90]\n",
    "print(f\"{uber_filtered['pickup_longitude'].max()}, {uber_filtered['pickup_longitude'].min()}\")\n",
    "\n",
    "uber_filtered = uber_filtered[uber_filtered['pickup_latitude'] < 90]\n",
    "uber_filtered = uber_filtered[uber_filtered['pickup_latitude'] > -90]\n",
    "print(f\"{uber_filtered['pickup_latitude'].max()}, {uber_filtered['pickup_latitude'].min()}\")\n",
    "\n",
    "uber_filtered = uber_filtered[uber_filtered['dropoff_longitude'] < 90]\n",
    "uber_filtered = uber_filtered[uber_filtered['dropoff_longitude'] > -90]\n",
    "print(f\"{uber_filtered['dropoff_longitude'].max()}, {uber_filtered['dropoff_longitude'].min()}\")\n",
    "\n",
    "uber_filtered = uber_filtered[uber_filtered['dropoff_latitude'] < 90]\n",
    "uber_filtered = uber_filtered[uber_filtered['dropoff_latitude'] > -90]\n",
    "print(f\"{uber_filtered['dropoff_latitude'].max()}, {uber_filtered['dropoff_latitude'].min()}\")\n"
   ],
   "metadata": {
    "collapsed": false,
    "pycharm": {
     "name": "#%%\n"
    }
   }
  },
  {
   "cell_type": "code",
   "execution_count": 7,
   "outputs": [],
   "source": [],
   "metadata": {
    "collapsed": false,
    "pycharm": {
     "name": "#%%\n"
    }
   }
  },
  {
   "cell_type": "code",
   "execution_count": 32,
   "outputs": [
    {
     "name": "stdout",
     "output_type": "stream",
     "text": [
      "40.808425\n",
      "48.01876\n",
      "----------------\n",
      "-93.824668\n",
      "-74.01551500000001\n",
      "----------------\n",
      "40.831932\n",
      "45.031598\n",
      "----------------\n",
      "-75.458978633981\n",
      "-74.01575\n"
     ]
    }
   ],
   "source": [],
   "metadata": {
    "collapsed": false,
    "pycharm": {
     "name": "#%%\n"
    }
   }
  },
  {
   "cell_type": "code",
   "execution_count": 21,
   "outputs": [
    {
     "data": {
      "text/plain": "(199988, 8)"
     },
     "execution_count": 21,
     "metadata": {},
     "output_type": "execute_result"
    }
   ],
   "source": [
    "uber.shape"
   ],
   "metadata": {
    "collapsed": false,
    "pycharm": {
     "name": "#%%\n"
    }
   }
  },
  {
   "cell_type": "code",
   "execution_count": 28,
   "outputs": [
    {
     "data": {
      "text/plain": "                               key  fare_amount          pickup_datetime  \\\n40908  2009-07-30 19:51:48.0000005          8.1  2009-07-30 19:51:48 UTC   \n\n       pickup_longitude  pickup_latitude  dropoff_longitude  dropoff_latitude  \\\n40908        -93.824668        43.486656         -54.294363         35.174169   \n\n       passenger_count  \n40908                1  ",
      "text/html": "<div>\n<style scoped>\n    .dataframe tbody tr th:only-of-type {\n        vertical-align: middle;\n    }\n\n    .dataframe tbody tr th {\n        vertical-align: top;\n    }\n\n    .dataframe thead th {\n        text-align: right;\n    }\n</style>\n<table border=\"1\" class=\"dataframe\">\n  <thead>\n    <tr style=\"text-align: right;\">\n      <th></th>\n      <th>key</th>\n      <th>fare_amount</th>\n      <th>pickup_datetime</th>\n      <th>pickup_longitude</th>\n      <th>pickup_latitude</th>\n      <th>dropoff_longitude</th>\n      <th>dropoff_latitude</th>\n      <th>passenger_count</th>\n    </tr>\n  </thead>\n  <tbody>\n    <tr>\n      <th>40908</th>\n      <td>2009-07-30 19:51:48.0000005</td>\n      <td>8.1</td>\n      <td>2009-07-30 19:51:48 UTC</td>\n      <td>-93.824668</td>\n      <td>43.486656</td>\n      <td>-54.294363</td>\n      <td>35.174169</td>\n      <td>1</td>\n    </tr>\n  </tbody>\n</table>\n</div>"
     },
     "execution_count": 28,
     "metadata": {},
     "output_type": "execute_result"
    }
   ],
   "source": [
    "uber.iloc[[40906]]"
   ],
   "metadata": {
    "collapsed": false,
    "pycharm": {
     "name": "#%%\n"
    }
   }
  },
  {
   "cell_type": "code",
   "execution_count": 36,
   "outputs": [
    {
     "data": {
      "text/plain": "                             key  fare_amount          pickup_datetime  \\\n0    2015-05-07 19:52:06.0000003          7.5  2015-05-07 19:52:06 UTC   \n1    2009-07-17 20:04:56.0000002          7.7  2009-07-17 20:04:56 UTC   \n2   2009-08-24 21:45:00.00000061         12.9  2009-08-24 21:45:00 UTC   \n3    2009-06-26 08:22:21.0000001          5.3  2009-06-26 08:22:21 UTC   \n4  2014-08-28 17:47:00.000000188         16.0  2014-08-28 17:47:00 UTC   \n5    2011-02-12 02:27:09.0000006          4.9  2011-02-12 02:27:09 UTC   \n6    2014-10-12 07:04:00.0000002         24.5  2014-10-12 07:04:00 UTC   \n7   2012-12-11 13:52:00.00000029          2.5  2012-12-11 13:52:00 UTC   \n8   2012-02-17 09:32:00.00000043          9.7  2012-02-17 09:32:00 UTC   \n9  2012-03-29 19:06:00.000000273         12.5  2012-03-29 19:06:00 UTC   \n\n   pickup_longitude  pickup_latitude  dropoff_longitude  dropoff_latitude  \\\n0        -73.999817        40.738354         -73.999512         40.723217   \n1        -73.994355        40.728225         -73.994710         40.750325   \n2        -74.005043        40.740770         -73.962565         40.772647   \n3        -73.976124        40.790844         -73.965316         40.803349   \n4        -73.925023        40.744085         -73.973082         40.761247   \n5        -73.969019        40.755910         -73.969019         40.755910   \n6        -73.961447        40.693965         -73.871195         40.774297   \n7          0.000000         0.000000           0.000000          0.000000   \n8        -73.975187        40.745767         -74.002720         40.743537   \n9        -74.001065        40.741787         -73.963040         40.775012   \n\n   passenger_count  distance_in_miles  \n0                1           0.290272  \n1                1           0.423525  \n2                1           3.008397  \n3                3           0.786895  \n4                5           3.349106  \n5                1           0.000000  \n6                5           6.446615  \n7                1           0.000000  \n8                1           1.909893  \n9                1           2.712677  ",
      "text/html": "<div>\n<style scoped>\n    .dataframe tbody tr th:only-of-type {\n        vertical-align: middle;\n    }\n\n    .dataframe tbody tr th {\n        vertical-align: top;\n    }\n\n    .dataframe thead th {\n        text-align: right;\n    }\n</style>\n<table border=\"1\" class=\"dataframe\">\n  <thead>\n    <tr style=\"text-align: right;\">\n      <th></th>\n      <th>key</th>\n      <th>fare_amount</th>\n      <th>pickup_datetime</th>\n      <th>pickup_longitude</th>\n      <th>pickup_latitude</th>\n      <th>dropoff_longitude</th>\n      <th>dropoff_latitude</th>\n      <th>passenger_count</th>\n      <th>distance_in_miles</th>\n    </tr>\n  </thead>\n  <tbody>\n    <tr>\n      <th>0</th>\n      <td>2015-05-07 19:52:06.0000003</td>\n      <td>7.5</td>\n      <td>2015-05-07 19:52:06 UTC</td>\n      <td>-73.999817</td>\n      <td>40.738354</td>\n      <td>-73.999512</td>\n      <td>40.723217</td>\n      <td>1</td>\n      <td>0.290272</td>\n    </tr>\n    <tr>\n      <th>1</th>\n      <td>2009-07-17 20:04:56.0000002</td>\n      <td>7.7</td>\n      <td>2009-07-17 20:04:56 UTC</td>\n      <td>-73.994355</td>\n      <td>40.728225</td>\n      <td>-73.994710</td>\n      <td>40.750325</td>\n      <td>1</td>\n      <td>0.423525</td>\n    </tr>\n    <tr>\n      <th>2</th>\n      <td>2009-08-24 21:45:00.00000061</td>\n      <td>12.9</td>\n      <td>2009-08-24 21:45:00 UTC</td>\n      <td>-74.005043</td>\n      <td>40.740770</td>\n      <td>-73.962565</td>\n      <td>40.772647</td>\n      <td>1</td>\n      <td>3.008397</td>\n    </tr>\n    <tr>\n      <th>3</th>\n      <td>2009-06-26 08:22:21.0000001</td>\n      <td>5.3</td>\n      <td>2009-06-26 08:22:21 UTC</td>\n      <td>-73.976124</td>\n      <td>40.790844</td>\n      <td>-73.965316</td>\n      <td>40.803349</td>\n      <td>3</td>\n      <td>0.786895</td>\n    </tr>\n    <tr>\n      <th>4</th>\n      <td>2014-08-28 17:47:00.000000188</td>\n      <td>16.0</td>\n      <td>2014-08-28 17:47:00 UTC</td>\n      <td>-73.925023</td>\n      <td>40.744085</td>\n      <td>-73.973082</td>\n      <td>40.761247</td>\n      <td>5</td>\n      <td>3.349106</td>\n    </tr>\n    <tr>\n      <th>5</th>\n      <td>2011-02-12 02:27:09.0000006</td>\n      <td>4.9</td>\n      <td>2011-02-12 02:27:09 UTC</td>\n      <td>-73.969019</td>\n      <td>40.755910</td>\n      <td>-73.969019</td>\n      <td>40.755910</td>\n      <td>1</td>\n      <td>0.000000</td>\n    </tr>\n    <tr>\n      <th>6</th>\n      <td>2014-10-12 07:04:00.0000002</td>\n      <td>24.5</td>\n      <td>2014-10-12 07:04:00 UTC</td>\n      <td>-73.961447</td>\n      <td>40.693965</td>\n      <td>-73.871195</td>\n      <td>40.774297</td>\n      <td>5</td>\n      <td>6.446615</td>\n    </tr>\n    <tr>\n      <th>7</th>\n      <td>2012-12-11 13:52:00.00000029</td>\n      <td>2.5</td>\n      <td>2012-12-11 13:52:00 UTC</td>\n      <td>0.000000</td>\n      <td>0.000000</td>\n      <td>0.000000</td>\n      <td>0.000000</td>\n      <td>1</td>\n      <td>0.000000</td>\n    </tr>\n    <tr>\n      <th>8</th>\n      <td>2012-02-17 09:32:00.00000043</td>\n      <td>9.7</td>\n      <td>2012-02-17 09:32:00 UTC</td>\n      <td>-73.975187</td>\n      <td>40.745767</td>\n      <td>-74.002720</td>\n      <td>40.743537</td>\n      <td>1</td>\n      <td>1.909893</td>\n    </tr>\n    <tr>\n      <th>9</th>\n      <td>2012-03-29 19:06:00.000000273</td>\n      <td>12.5</td>\n      <td>2012-03-29 19:06:00 UTC</td>\n      <td>-74.001065</td>\n      <td>40.741787</td>\n      <td>-73.963040</td>\n      <td>40.775012</td>\n      <td>1</td>\n      <td>2.712677</td>\n    </tr>\n  </tbody>\n</table>\n</div>"
     },
     "execution_count": 36,
     "metadata": {},
     "output_type": "execute_result"
    }
   ],
   "source": [
    "import geopy.distance\n",
    "def transform_coords(df):\n",
    "    result_list = []\n",
    "    counter = 0\n",
    "\n",
    "    for index, row in df.iterrows():\n",
    "        coords_1 = (row['pickup_longitude'], row['pickup_latitude'])\n",
    "        coords_2 = (row['dropoff_longitude'], row['dropoff_latitude'])\n",
    "\n",
    "        # print(f\"i: {index} : {geopy.distance.geodesic(coords_1, coords_2).miles}\")\n",
    "        result_list.append(geopy.distance.geodesic(coords_2, coords_1).miles)\n",
    "    return result_list\n",
    "\n",
    "distances = transform_coords(uber_filtered)\n",
    "\n",
    "uber_filtered['distance_in_miles'] = distances\n",
    "uber_filtered.head(10)"
   ],
   "metadata": {
    "collapsed": false,
    "pycharm": {
     "name": "#%%\n"
    }
   }
  },
  {
   "cell_type": "code",
   "execution_count": 37,
   "outputs": [
    {
     "data": {
      "text/plain": "0         0.290272\n1         0.423525\n2         3.008397\n3         0.786895\n4         3.349106\n            ...   \n199995    0.040030\n199996    1.523166\n199997    8.896701\n199998    1.122834\n199999    0.935749\nName: distance_in_miles, Length: 199986, dtype: float64"
     },
     "execution_count": 37,
     "metadata": {},
     "output_type": "execute_result"
    }
   ],
   "source": [
    "uber_filtered['distance_in_miles']"
   ],
   "metadata": {
    "collapsed": false,
    "pycharm": {
     "name": "#%%\n"
    }
   }
  },
  {
   "cell_type": "code",
   "execution_count": null,
   "outputs": [],
   "source": [],
   "metadata": {
    "collapsed": false,
    "pycharm": {
     "name": "#%%\n"
    }
   }
  }
 ],
 "metadata": {
  "kernelspec": {
   "display_name": "Python 3",
   "language": "python",
   "name": "python3"
  },
  "language_info": {
   "codemirror_mode": {
    "name": "ipython",
    "version": 2
   },
   "file_extension": ".py",
   "mimetype": "text/x-python",
   "name": "python",
   "nbconvert_exporter": "python",
   "pygments_lexer": "ipython2",
   "version": "2.7.6"
  }
 },
 "nbformat": 4,
 "nbformat_minor": 0
}