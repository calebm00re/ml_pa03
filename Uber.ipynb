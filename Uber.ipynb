{
 "cells": [
  {
   "cell_type": "code",
   "execution_count": 1,
   "metadata": {
    "collapsed": true
   },
   "outputs": [],
   "source": [
    "import pandas as pd"
   ]
  },
  {
   "cell_type": "code",
   "execution_count": 2,
   "outputs": [
    {
     "data": {
      "text/plain": "   Unnamed: 0                            key  fare_amount  \\\n0    24238194    2015-05-07 19:52:06.0000003          7.5   \n1    27835199    2009-07-17 20:04:56.0000002          7.7   \n2    44984355   2009-08-24 21:45:00.00000061         12.9   \n3    25894730    2009-06-26 08:22:21.0000001          5.3   \n4    17610152  2014-08-28 17:47:00.000000188         16.0   \n\n           pickup_datetime  pickup_longitude  pickup_latitude  \\\n0  2015-05-07 19:52:06 UTC        -73.999817        40.738354   \n1  2009-07-17 20:04:56 UTC        -73.994355        40.728225   \n2  2009-08-24 21:45:00 UTC        -74.005043        40.740770   \n3  2009-06-26 08:22:21 UTC        -73.976124        40.790844   \n4  2014-08-28 17:47:00 UTC        -73.925023        40.744085   \n\n   dropoff_longitude  dropoff_latitude  passenger_count  \n0         -73.999512         40.723217                1  \n1         -73.994710         40.750325                1  \n2         -73.962565         40.772647                1  \n3         -73.965316         40.803349                3  \n4         -73.973082         40.761247                5  ",
      "text/html": "<div>\n<style scoped>\n    .dataframe tbody tr th:only-of-type {\n        vertical-align: middle;\n    }\n\n    .dataframe tbody tr th {\n        vertical-align: top;\n    }\n\n    .dataframe thead th {\n        text-align: right;\n    }\n</style>\n<table border=\"1\" class=\"dataframe\">\n  <thead>\n    <tr style=\"text-align: right;\">\n      <th></th>\n      <th>Unnamed: 0</th>\n      <th>key</th>\n      <th>fare_amount</th>\n      <th>pickup_datetime</th>\n      <th>pickup_longitude</th>\n      <th>pickup_latitude</th>\n      <th>dropoff_longitude</th>\n      <th>dropoff_latitude</th>\n      <th>passenger_count</th>\n    </tr>\n  </thead>\n  <tbody>\n    <tr>\n      <th>0</th>\n      <td>24238194</td>\n      <td>2015-05-07 19:52:06.0000003</td>\n      <td>7.5</td>\n      <td>2015-05-07 19:52:06 UTC</td>\n      <td>-73.999817</td>\n      <td>40.738354</td>\n      <td>-73.999512</td>\n      <td>40.723217</td>\n      <td>1</td>\n    </tr>\n    <tr>\n      <th>1</th>\n      <td>27835199</td>\n      <td>2009-07-17 20:04:56.0000002</td>\n      <td>7.7</td>\n      <td>2009-07-17 20:04:56 UTC</td>\n      <td>-73.994355</td>\n      <td>40.728225</td>\n      <td>-73.994710</td>\n      <td>40.750325</td>\n      <td>1</td>\n    </tr>\n    <tr>\n      <th>2</th>\n      <td>44984355</td>\n      <td>2009-08-24 21:45:00.00000061</td>\n      <td>12.9</td>\n      <td>2009-08-24 21:45:00 UTC</td>\n      <td>-74.005043</td>\n      <td>40.740770</td>\n      <td>-73.962565</td>\n      <td>40.772647</td>\n      <td>1</td>\n    </tr>\n    <tr>\n      <th>3</th>\n      <td>25894730</td>\n      <td>2009-06-26 08:22:21.0000001</td>\n      <td>5.3</td>\n      <td>2009-06-26 08:22:21 UTC</td>\n      <td>-73.976124</td>\n      <td>40.790844</td>\n      <td>-73.965316</td>\n      <td>40.803349</td>\n      <td>3</td>\n    </tr>\n    <tr>\n      <th>4</th>\n      <td>17610152</td>\n      <td>2014-08-28 17:47:00.000000188</td>\n      <td>16.0</td>\n      <td>2014-08-28 17:47:00 UTC</td>\n      <td>-73.925023</td>\n      <td>40.744085</td>\n      <td>-73.973082</td>\n      <td>40.761247</td>\n      <td>5</td>\n    </tr>\n  </tbody>\n</table>\n</div>"
     },
     "execution_count": 2,
     "metadata": {},
     "output_type": "execute_result"
    }
   ],
   "source": [
    "uber = pd.read_csv(\"datasets/uber.csv\")\n",
    "uber.head()"
   ],
   "metadata": {
    "collapsed": false,
    "pycharm": {
     "name": "#%%\n"
    }
   }
  },
  {
   "cell_type": "code",
   "execution_count": 3,
   "outputs": [
    {
     "data": {
      "text/plain": "Unnamed: 0  key                            fare_amount  pickup_datetime          pickup_longitude  pickup_latitude  dropoff_longitude  dropoff_latitude  passenger_count\n1           2010-01-05 16:52:16.0000002    16.9         2010-01-05 16:52:16 UTC  -74.016048        40.711303        -73.979268         40.782004         1                  1\n36975577    2011-01-09 00:55:02.0000003    9.3          2011-01-09 00:55:02 UTC  -73.983030        40.744800        -73.955020         40.774215         1                  1\n36968569    2011-06-13 13:38:48.0000001    8.9          2011-06-13 13:38:48 UTC  -73.991514        40.743654        -73.978592         40.755550         1                  1\n36968748    2013-02-25 18:37:42.0000001    8.0          2013-02-25 18:37:42 UTC  -73.970616        40.755955        -73.981663         40.739912         1                  1\n36969059    2014-02-07 20:31:03.0000005    13.5         2014-02-07 20:31:03 UTC  -73.968586        40.751724        -73.954154         40.769654         1                  1\n                                                                                                                                                                           ..\n18494755    2012-01-12 12:03:00.000000170  11.7         2012-01-12 12:03:00 UTC  -73.975342        40.765132        -73.990207         40.759107         5                  1\n18494937    2010-07-12 09:07:00.000000115  4.1          2010-07-12 09:07:00 UTC  -73.954520        40.805850        -73.952148         40.810673         3                  1\n18495130    2010-01-20 05:47:46.0000001    5.7          2010-01-20 05:47:46 UTC  -73.967425        40.801076        -73.975938         40.785477         1                  1\n18495375    2011-04-25 11:38:13.0000001    10.9         2011-04-25 11:38:13 UTC  -73.993990        40.735569        -74.010074         40.709845         1                  1\n55423567    2010-06-27 17:43:56.0000003    4.5          2010-06-27 17:43:56 UTC  -73.975406        40.751730        -73.965029         40.752614         1                  1\nLength: 199999, dtype: int64"
     },
     "execution_count": 3,
     "metadata": {},
     "output_type": "execute_result"
    }
   ],
   "source": [
    "uber.value_counts()"
   ],
   "metadata": {
    "collapsed": false,
    "pycharm": {
     "name": "#%%\n"
    }
   }
  },
  {
   "cell_type": "code",
   "execution_count": 4,
   "outputs": [
    {
     "data": {
      "text/plain": "         Unnamed: 0    fare_amount  pickup_longitude  pickup_latitude  \\\ncount  2.000000e+05  200000.000000     200000.000000    200000.000000   \nmean   2.771250e+07      11.359955        -72.527638        39.935885   \nstd    1.601382e+07       9.901776         11.437787         7.720539   \nmin    1.000000e+00     -52.000000      -1340.648410       -74.015515   \n25%    1.382535e+07       6.000000        -73.992065        40.734796   \n50%    2.774550e+07       8.500000        -73.981823        40.752592   \n75%    4.155530e+07      12.500000        -73.967154        40.767158   \nmax    5.542357e+07     499.000000         57.418457      1644.421482   \n\n       dropoff_longitude  dropoff_latitude  passenger_count  \ncount      199999.000000     199999.000000    200000.000000  \nmean          -72.525292         39.923890         1.684535  \nstd            13.117408          6.794829         1.385997  \nmin         -3356.666300       -881.985513         0.000000  \n25%           -73.991407         40.733823         1.000000  \n50%           -73.980093         40.753042         1.000000  \n75%           -73.963658         40.768001         2.000000  \nmax          1153.572603        872.697628       208.000000  ",
      "text/html": "<div>\n<style scoped>\n    .dataframe tbody tr th:only-of-type {\n        vertical-align: middle;\n    }\n\n    .dataframe tbody tr th {\n        vertical-align: top;\n    }\n\n    .dataframe thead th {\n        text-align: right;\n    }\n</style>\n<table border=\"1\" class=\"dataframe\">\n  <thead>\n    <tr style=\"text-align: right;\">\n      <th></th>\n      <th>Unnamed: 0</th>\n      <th>fare_amount</th>\n      <th>pickup_longitude</th>\n      <th>pickup_latitude</th>\n      <th>dropoff_longitude</th>\n      <th>dropoff_latitude</th>\n      <th>passenger_count</th>\n    </tr>\n  </thead>\n  <tbody>\n    <tr>\n      <th>count</th>\n      <td>2.000000e+05</td>\n      <td>200000.000000</td>\n      <td>200000.000000</td>\n      <td>200000.000000</td>\n      <td>199999.000000</td>\n      <td>199999.000000</td>\n      <td>200000.000000</td>\n    </tr>\n    <tr>\n      <th>mean</th>\n      <td>2.771250e+07</td>\n      <td>11.359955</td>\n      <td>-72.527638</td>\n      <td>39.935885</td>\n      <td>-72.525292</td>\n      <td>39.923890</td>\n      <td>1.684535</td>\n    </tr>\n    <tr>\n      <th>std</th>\n      <td>1.601382e+07</td>\n      <td>9.901776</td>\n      <td>11.437787</td>\n      <td>7.720539</td>\n      <td>13.117408</td>\n      <td>6.794829</td>\n      <td>1.385997</td>\n    </tr>\n    <tr>\n      <th>min</th>\n      <td>1.000000e+00</td>\n      <td>-52.000000</td>\n      <td>-1340.648410</td>\n      <td>-74.015515</td>\n      <td>-3356.666300</td>\n      <td>-881.985513</td>\n      <td>0.000000</td>\n    </tr>\n    <tr>\n      <th>25%</th>\n      <td>1.382535e+07</td>\n      <td>6.000000</td>\n      <td>-73.992065</td>\n      <td>40.734796</td>\n      <td>-73.991407</td>\n      <td>40.733823</td>\n      <td>1.000000</td>\n    </tr>\n    <tr>\n      <th>50%</th>\n      <td>2.774550e+07</td>\n      <td>8.500000</td>\n      <td>-73.981823</td>\n      <td>40.752592</td>\n      <td>-73.980093</td>\n      <td>40.753042</td>\n      <td>1.000000</td>\n    </tr>\n    <tr>\n      <th>75%</th>\n      <td>4.155530e+07</td>\n      <td>12.500000</td>\n      <td>-73.967154</td>\n      <td>40.767158</td>\n      <td>-73.963658</td>\n      <td>40.768001</td>\n      <td>2.000000</td>\n    </tr>\n    <tr>\n      <th>max</th>\n      <td>5.542357e+07</td>\n      <td>499.000000</td>\n      <td>57.418457</td>\n      <td>1644.421482</td>\n      <td>1153.572603</td>\n      <td>872.697628</td>\n      <td>208.000000</td>\n    </tr>\n  </tbody>\n</table>\n</div>"
     },
     "execution_count": 4,
     "metadata": {},
     "output_type": "execute_result"
    }
   ],
   "source": [
    "uber.describe()"
   ],
   "metadata": {
    "collapsed": false,
    "pycharm": {
     "name": "#%%\n"
    }
   }
  },
  {
   "cell_type": "code",
   "execution_count": null,
   "outputs": [],
   "source": [],
   "metadata": {
    "collapsed": false,
    "pycharm": {
     "name": "#%%\n"
    }
   }
  }
 ],
 "metadata": {
  "kernelspec": {
   "display_name": "Python 3",
   "language": "python",
   "name": "python3"
  },
  "language_info": {
   "codemirror_mode": {
    "name": "ipython",
    "version": 2
   },
   "file_extension": ".py",
   "mimetype": "text/x-python",
   "name": "python",
   "nbconvert_exporter": "python",
   "pygments_lexer": "ipython2",
   "version": "2.7.6"
  }
 },
 "nbformat": 4,
 "nbformat_minor": 0
}